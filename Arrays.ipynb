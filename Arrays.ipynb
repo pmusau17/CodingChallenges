{
 "cells": [
  {
   "cell_type": "markdown",
   "metadata": {},
   "source": [
    "The quick sort algorithm for sorting arrays proceeds recursively--it selects an element (the \"pivot\"), reorders the array to make all the elements less than or equal to the pivot appear first, followed by all the elements greater than the pivot. The two subarrays are then sorted recursively.\n",
    "\n",
    "Implemented naively quick sort has large run times and deep function calls stacks on arrays with many duplicates because the subarrays may differ greatly in size. One solution is to reorder the array so that all elements less than the pivot appear first, followed by all elements equal to the pivot, followed by all elements greater than the pivot. This is known as Dutch flag partioning, because the Dutch national flag consists of three horizontal bands, each in different color. \n",
    "\n",
    "**problem:** write a program that takes an array A and an index i into A, and rearranges the elements such all elements less than A[i] (the pivot) appear first, followed by elements equal to the pivot, followed by elements greater than the pivot\n",
    "\n",
    "The problem is trivial to solve with O(n) additional space store all the smaller elements, those equal to the pivot and those greater. We can avoid O(n) additional space but O(n^2)\n",
    "\n",
    "To improve the time complexity, we can make a single pass and move all the elements less than the pivot to the beginning. In the second pass we move larger elements to the end. It's easy to perform each pass in a single iteration, moving out of place elements as soon as they are discovered.\n",
    "\n",
    "First let's implement the naive solution"
   ]
  },
  {
   "cell_type": "code",
   "execution_count": 29,
   "metadata": {},
   "outputs": [],
   "source": [
    "def swap(i,j,arr):\n",
    "    item1=arr[i]\n",
    "    item2=arr[j]\n",
    "    arr[j],arr[i]=item1,item2\n",
    "\n",
    "def dutchFlagPartition(pivot_index,arr):\n",
    "    pivot=arr[pivot_index]\n",
    "    \n",
    "    #move all the smaller elements to the start of the array\n",
    "    for i in range(len(arr)):\n",
    "        for j in range(i+1,len(arr)):\n",
    "            if(arr[j]<pivot):\n",
    "                swap(i,j,arr)\n",
    "                print(arr)\n",
    "                break\n",
    "    \n",
    "    #second pass move all the larger elements to the end of array\n",
    "    for i in range(len(arr)-1,-1,-1):\n",
    "        for j in range(i-1,-1,-1):\n",
    "            if(arr[j]>pivot):\n",
    "                swap(i,j,arr)\n",
    "                print(arr)\n",
    "                break\n",
    "        if(arr[j]<pivot):\n",
    "            break\n",
    "        "
   ]
  },
  {
   "cell_type": "code",
   "execution_count": 30,
   "metadata": {},
   "outputs": [
    {
     "name": "stdout",
     "output_type": "stream",
     "text": [
      "[3, 21, 6, 4, 5, 9, 20]\n",
      "[3, 21, 6, 4, 5, 20, 9]\n",
      "[3, 21, 6, 4, 20, 5, 9]\n",
      "[3, 21, 20, 4, 6, 5, 9]\n",
      "[3, 21, 4, 20, 6, 5, 9]\n",
      "[3, 4, 21, 20, 6, 5, 9]\n"
     ]
    }
   ],
   "source": [
    "arr=[6,21,3,4,5,9,20]\n",
    "dutchFlagPartition(3,arr)"
   ]
  },
  {
   "cell_type": "markdown",
   "metadata": {},
   "source": [
    "That works but its O(n^2) complexity"
   ]
  },
  {
   "cell_type": "markdown",
   "metadata": {},
   "source": [
    "The additional space complexity is now O(1) but the time complexity is O(n^2). Intuitively this approach is bad because in the first pass when searching for each additional element smaller than the pivot we start from the beginning. However there is no reason to start from so far back, we can begin from the last loaction we advanced to. To improve time complexity we can make a single pass and move all the elements less than pivot to the begininng, in the second pass we move larger elements to the end, it's easy to perform each pass in a singel iteration, moving out of place elements as soon as they are discovered."
   ]
  },
  {
   "cell_type": "code",
   "execution_count": 45,
   "metadata": {},
   "outputs": [],
   "source": [
    "def swap(i,j,arr):\n",
    "    item1=arr[i]\n",
    "    item2=arr[j]\n",
    "    arr[j],arr[i]=item1,item2\n",
    "\n",
    "def dutchFlagPartitionDoublePass(pivot_index,arr):\n",
    "    pivot=arr[pivot_index]\n",
    "    smaller=0\n",
    "    \n",
    "    #move all the smaller elements to the beginning of the array\n",
    "    for i in range(len(arr)):\n",
    "        if(arr[i]<pivot):\n",
    "            swap(i,smaller,arr)\n",
    "            smaller+=1\n",
    "            \n",
    "    #move all the larger elements to the end of the array\n",
    "    larger=len(arr)-1\n",
    "    for j in range(len(arr)-1,-1,-1):\n",
    "        if(arr[j]>pivot):\n",
    "            swap(j,larger,arr)\n",
    "            larger-=1\n",
    "        "
   ]
  },
  {
   "cell_type": "code",
   "execution_count": 46,
   "metadata": {},
   "outputs": [
    {
     "data": {
      "text/plain": [
       "[3, 4, 21, 6, 5, 9, 20]"
      ]
     },
     "execution_count": 46,
     "metadata": {},
     "output_type": "execute_result"
    }
   ],
   "source": [
    "arr=[6,21,3,4,5,9,20]\n",
    "dutchFlagPartitionDoublePass(3,arr)\n",
    "arr"
   ]
  },
  {
   "cell_type": "markdown",
   "metadata": {},
   "source": [
    "The algorithm we jsut presented is O(n) and space complexity O(1)"
   ]
  },
  {
   "cell_type": "markdown",
   "metadata": {},
   "source": [
    "The third algorithm we present now is the same time complexity but performs a single pass. We dothis by maintaining for subarrays: bottom (elements less than the pivot), middle (equal to pivot), unclassified and top (elements greater than the pivot). Initially all elements are unclassified. We iterate and move elements intoone of bottom middle ad top groups accordingly to the relative order between the unclassifed element and the pivot.\n",
    "\n",
    "Suppose the array is <-3,0,-1,1,1,?,?,?,4,2> where the pivot is 1 and ? is the unclassified element. There are three possible cases for the unclassified element A[5].\n",
    "\n",
    "It could be less than 1 so for example a[5]=-5. In this case we swap it with the first element that's equal to the pivot. So the array becomes <-3,0,-1,-5,1,1,?,?,4,2>\n",
    "\n",
    "It could be equal to the pivot in this case the array remains unchanged. \n",
    "\n",
    "It could be greater than 1 for example A[5]=6 and in that case we swap it with the farthest right unclassified element. So the array becoms <-3,0,-1,1,1,?,?,6,4,2>\n",
    "\n",
    "If you notice every time the number of unclassifed elements decreases. "
   ]
  },
  {
   "cell_type": "code",
   "execution_count": 3,
   "metadata": {},
   "outputs": [],
   "source": [
    "def swap(i,j,arr):\n",
    "    item1=arr[i]\n",
    "    item2=arr[j]\n",
    "    arr[j],arr[i]=item1,item2\n",
    "\n",
    "\n",
    "def dutchFlagPartitionSinglePass(pivot_index,arr):\n",
    "    pivot=arr[pivot_index]\n",
    "    smaller=0\n",
    "    equal=0\n",
    "    larger=len(arr)\n",
    "    \n",
    "    \"\"\"The following invariants must be true during partitioning:\n",
    "        bottom group: Arr[0: smaller-1]\n",
    "        middle group: Arr[smaller:equal-1]\n",
    "        unclassified: Arr[equal:larger-1]\n",
    "        top group: Arr[larger: A.size()-1]\"\"\"\n",
    "    \n",
    "    while(equal<larger):\n",
    "        if(arr[equal]<pivot):\n",
    "            swap(equal,smaller,arr)\n",
    "            smaller+=1\n",
    "            equal+=1\n",
    "        elif(arr[equal]==pivot):\n",
    "            equal+=1\n",
    "        elif(arr[equal]>pivot):\n",
    "            swap(larger-1,equal,arr)\n",
    "            larger-=1\n",
    "            \n"
   ]
  },
  {
   "cell_type": "code",
   "execution_count": 72,
   "metadata": {},
   "outputs": [
    {
     "data": {
      "text/plain": [
       "[6, 3, 4, 5, 9, 20, 21]"
      ]
     },
     "execution_count": 72,
     "metadata": {},
     "output_type": "execute_result"
    }
   ],
   "source": [
    "arr=[6,21,3,4,5,9,20]\n",
    "dutchFlagPartitionSinglePass(5,arr)\n",
    "arr"
   ]
  },
  {
   "cell_type": "code",
   "execution_count": 73,
   "metadata": {},
   "outputs": [
    {
     "data": {
      "text/plain": [
       "[2, 2, 2, 2, 3, 3, 3, 3]"
      ]
     },
     "execution_count": 73,
     "metadata": {},
     "output_type": "execute_result"
    }
   ],
   "source": [
    "arr=[2,3,2,2,3,2,3,3]\n",
    "dutchFlagPartitionSinglePass(1,arr)\n",
    "arr"
   ]
  },
  {
   "cell_type": "markdown",
   "metadata": {},
   "source": [
    "Variant: Assuming that keys take one of three values, reorder the array so that all objects with the same key appear together. The order of the subarrays is not important. \n",
    "\n",
    "I think the solutions is to pick the midpoint of the keys. If only two appear choose either and use the single pass partition"
   ]
  },
  {
   "cell_type": "code",
   "execution_count": 4,
   "metadata": {},
   "outputs": [
    {
     "name": "stdout",
     "output_type": "stream",
     "text": [
      "('before:', array([2, 1, 3, 3, 3, 2, 2, 2, 1, 2, 2, 2, 1, 2, 1, 2, 2, 2, 2, 2, 3, 2,\n",
      "       1, 2, 2, 3, 1, 2, 3, 3, 2, 3, 1, 2, 1, 3, 2, 3, 1, 3, 2, 2, 3, 1,\n",
      "       1, 3, 2, 1, 1, 3, 2, 1, 3, 1, 3, 2, 3, 3, 2, 1, 2, 1, 1, 3, 3, 1,\n",
      "       3, 2, 3, 1, 1, 1, 2, 2, 3, 2, 2, 2, 2, 3, 2, 2, 3, 2, 2, 1, 1, 2,\n",
      "       2, 3, 3, 2, 3, 1, 2, 3, 1, 2, 2, 1]))\n",
      "('after: ', array([2, 1, 2, 2, 2, 1, 2, 2, 2, 1, 2, 1, 2, 2, 2, 2, 2, 2, 1, 2, 2, 1,\n",
      "       2, 2, 1, 2, 1, 2, 1, 2, 2, 1, 1, 2, 1, 1, 2, 1, 1, 2, 2, 1, 2, 1,\n",
      "       1, 1, 2, 1, 1, 1, 2, 2, 2, 2, 2, 2, 2, 2, 2, 2, 1, 1, 2, 2, 2, 1,\n",
      "       2, 1, 2, 2, 1, 3, 3, 3, 3, 3, 3, 3, 3, 3, 3, 3, 3, 3, 3, 3, 3, 3,\n",
      "       3, 3, 3, 3, 3, 3, 3, 3, 3, 3, 3, 3]))\n"
     ]
    }
   ],
   "source": [
    "\n",
    "\n",
    "\n",
    "def select_pivot(arr):\n",
    "    dicta={}\n",
    "    for i in range(len(arr)):\n",
    "        if arr[i] in dicta.keys():\n",
    "            continue\n",
    "        else:\n",
    "            dicta[arr[i]]=1\n",
    "        if len(dicta.keys())==3:\n",
    "            break\n",
    "    return sorted(dicta.keys())\n",
    "\n",
    "arr1=np.random.randint(1,4,(100,))\n",
    "print(\"before:\",arr1)\n",
    "dutchFlagPartitionSinglePass(select_pivot(arr1)[1],arr1)\n",
    "print(\"after: \", arr1)"
   ]
  },
  {
   "cell_type": "code",
   "execution_count": 97,
   "metadata": {},
   "outputs": [
    {
     "name": "stdout",
     "output_type": "stream",
     "text": [
      "('before:', array([2, 1, 1, 2, 2, 2, 1, 2, 0, 1, 1, 0, 1, 0, 2, 1, 2, 2, 0, 1, 2, 0,\n",
      "       0, 2, 2, 2, 2, 2, 1, 1, 1, 1, 0, 0, 1, 1, 0, 0, 2, 1, 1, 1, 1, 2,\n",
      "       0, 2, 0, 1, 0, 2, 2, 1, 1, 0, 2, 1, 1, 0, 0, 0, 2, 0, 1, 2, 2, 2,\n",
      "       2, 1, 0, 1, 1, 0, 2, 2, 2, 2, 1, 0, 1, 1, 0, 0, 2, 2, 2, 1, 1, 2,\n",
      "       1, 1, 1, 0, 0, 2, 2, 0, 0, 1, 1, 2]))\n",
      "('after: ', array([0, 0, 0, 0, 0, 0, 0, 0, 0, 0, 0, 0, 0, 0, 0, 0, 0, 0, 0, 0, 0, 0,\n",
      "       0, 0, 0, 0, 0, 1, 1, 1, 1, 1, 1, 1, 1, 1, 1, 1, 1, 1, 1, 1, 1, 1,\n",
      "       1, 1, 1, 1, 1, 1, 1, 1, 1, 1, 1, 1, 1, 1, 1, 1, 1, 1, 1, 1, 2, 2,\n",
      "       2, 2, 2, 2, 2, 2, 2, 2, 2, 2, 2, 2, 2, 2, 2, 2, 2, 2, 2, 2, 2, 2,\n",
      "       2, 2, 2, 2, 2, 2, 2, 2, 2, 2, 2, 2]))\n"
     ]
    }
   ],
   "source": [
    "# Function to sort array \n",
    "def sort012( a, arr_size): \n",
    "    lo = 0\n",
    "    hi = arr_size - 1\n",
    "    mid = 0\n",
    "    while mid <= hi: \n",
    "        if a[mid] == 0: \n",
    "            a[lo], a[mid] = a[mid], a[lo] \n",
    "            lo = lo + 1\n",
    "            mid = mid + 1\n",
    "        elif a[mid] == 1: \n",
    "            mid = mid + 1\n",
    "        else: \n",
    "            a[mid], a[hi] = a[hi], a[mid]  \n",
    "            hi = hi - 1\n",
    "    return a \n",
    "\n",
    "arr1=np.random.randint(0,3,(100,))\n",
    "print(\"before:\",arr1)\n",
    "sort012(arr1,len(arr1))\n",
    "print(\"after: \", arr1)"
   ]
  },
  {
   "cell_type": "code",
   "execution_count": null,
   "metadata": {},
   "outputs": [],
   "source": [
    "#Dutch partition an array with four distinct keys"
   ]
  },
  {
   "cell_type": "code",
   "execution_count": 9,
   "metadata": {},
   "outputs": [
    {
     "data": {
      "text/plain": [
       "array([0, 3, 1, 2, 1, 3, 1, 1, 3, 0])"
      ]
     },
     "execution_count": 9,
     "metadata": {},
     "output_type": "execute_result"
    }
   ],
   "source": [
    "arr1=np.random.randint(0,4,(10,))\n",
    "arr1"
   ]
  },
  {
   "cell_type": "code",
   "execution_count": 10,
   "metadata": {},
   "outputs": [
    {
     "data": {
      "text/plain": [
       "array([0, 1, 2, 1, 1, 1, 0, 3, 3, 3])"
      ]
     },
     "execution_count": 10,
     "metadata": {},
     "output_type": "execute_result"
    }
   ],
   "source": [
    "dutchFlagPartitionSinglePass(8,arr1)\n",
    "arr1"
   ]
  },
  {
   "cell_type": "markdown",
   "metadata": {},
   "source": [
    "Given an array with four values and then n values, reorder the array so that all objects of the same key appear together. Use O(1) additional space and O(n) additional time."
   ]
  },
  {
   "cell_type": "code",
   "execution_count": 16,
   "metadata": {},
   "outputs": [],
   "source": [
    "import numpy as np\n",
    "def swap(i,j,arr):\n",
    "    if(i!=j):\n",
    "        item1=arr[i]\n",
    "        item2=arr[j]\n",
    "        arr[j],arr[i]=item1,item2\n",
    "\n",
    "def BruteForce(num_keys,arr):\n",
    "    smallest=0\n",
    "    for i in range(num_keys):\n",
    "        for j in range(smallest,len(arr)):\n",
    "            if(arr[j]==i):\n",
    "                swap(j,smallest,arr)\n",
    "                smallest+=1"
   ]
  },
  {
   "cell_type": "code",
   "execution_count": 1,
   "metadata": {},
   "outputs": [
    {
     "name": "stdout",
     "output_type": "stream",
     "text": [
      "[2 1 1 1 2 3 1 3 1 0]\n"
     ]
    },
    {
     "ename": "NameError",
     "evalue": "name 'BruteForce' is not defined",
     "output_type": "error",
     "traceback": [
      "\u001b[0;31m---------------------------------------------------------------------------\u001b[0m",
      "\u001b[0;31mNameError\u001b[0m                                 Traceback (most recent call last)",
      "\u001b[0;32m<ipython-input-1-8801f0b12e2e>\u001b[0m in \u001b[0;36m<module>\u001b[0;34m()\u001b[0m\n\u001b[1;32m      2\u001b[0m \u001b[0marr3\u001b[0m\u001b[0;34m=\u001b[0m\u001b[0mnp\u001b[0m\u001b[0;34m.\u001b[0m\u001b[0mrandom\u001b[0m\u001b[0;34m.\u001b[0m\u001b[0mrandint\u001b[0m\u001b[0;34m(\u001b[0m\u001b[0;36m0\u001b[0m\u001b[0;34m,\u001b[0m\u001b[0;36m4\u001b[0m\u001b[0;34m,\u001b[0m\u001b[0;34m(\u001b[0m\u001b[0;36m10\u001b[0m\u001b[0;34m,\u001b[0m\u001b[0;34m)\u001b[0m\u001b[0;34m)\u001b[0m\u001b[0;34m\u001b[0m\u001b[0m\n\u001b[1;32m      3\u001b[0m \u001b[0;32mprint\u001b[0m\u001b[0;34m(\u001b[0m\u001b[0marr3\u001b[0m\u001b[0;34m)\u001b[0m\u001b[0;34m\u001b[0m\u001b[0m\n\u001b[0;32m----> 4\u001b[0;31m \u001b[0mBruteForce\u001b[0m\u001b[0;34m(\u001b[0m\u001b[0;36m4\u001b[0m\u001b[0;34m,\u001b[0m\u001b[0marr3\u001b[0m\u001b[0;34m)\u001b[0m\u001b[0;34m\u001b[0m\u001b[0m\n\u001b[0m\u001b[1;32m      5\u001b[0m \u001b[0marr3\u001b[0m\u001b[0;34m\u001b[0m\u001b[0m\n",
      "\u001b[0;31mNameError\u001b[0m: name 'BruteForce' is not defined"
     ]
    }
   ],
   "source": [
    "import numpy as np\n",
    "arr3=np.random.randint(0,4,(10,))\n",
    "print(arr3)\n",
    "BruteForce(4,arr3)\n",
    "arr3"
   ]
  },
  {
   "cell_type": "markdown",
   "metadata": {},
   "source": [
    "This has a worst time execution time of O(k*n) where k is the number of distinct keys"
   ]
  },
  {
   "cell_type": "markdown",
   "metadata": {},
   "source": [
    "Variant given an Array of n objects with boolean valued keys, reorder the array so that objects that have the key apper first. The relative ordering of objects with key true"
   ]
  },
  {
   "cell_type": "code",
   "execution_count": 27,
   "metadata": {},
   "outputs": [
    {
     "data": {
      "text/plain": [
       "array([[12,  0],\n",
       "       [58,  1],\n",
       "       [77,  1],\n",
       "       [90,  1],\n",
       "       [49,  0],\n",
       "       [19,  1],\n",
       "       [21,  0],\n",
       "       [71,  1],\n",
       "       [76,  1],\n",
       "       [44,  1]])"
      ]
     },
     "execution_count": 27,
     "metadata": {},
     "output_type": "execute_result"
    }
   ],
   "source": [
    "arr_len=10\n",
    "arr4=[]\n",
    "for i in range(arr_len):\n",
    "    ar1=[np.random.randint(0,100),np.random.randint(0,2)]\n",
    "    arr4.append(ar1)\n",
    "arr4=np.array(arr4)\n",
    "arr4"
   ]
  },
  {
   "cell_type": "code",
   "execution_count": 26,
   "metadata": {},
   "outputs": [],
   "source": [
    "def swap_two(i,j,arr):\n",
    "    if(i!=j):\n",
    "        item1=np.copy(arr[i])\n",
    "        item2=np.copy(arr[j])\n",
    "        arr[i,:]=item2\n",
    "        arr[j,:]=item1\n",
    "\n",
    "def order_boolean(arr):\n",
    "    largest=len(arr)-1\n",
    "    for i in range(len(arr)-1,-1,-1):\n",
    "        pair=arr[i]\n",
    "        pair_bool=pair[1]\n",
    "        if(pair_bool==1):\n",
    "            swap_two(i,largest,arr)\n",
    "            largest-=1\n",
    "            \n",
    "        "
   ]
  },
  {
   "cell_type": "code",
   "execution_count": 20,
   "metadata": {},
   "outputs": [
    {
     "name": "stdout",
     "output_type": "stream",
     "text": [
      "[[62  1]\n",
      " [ 0  1]\n",
      " [60  0]\n",
      " [ 2  1]\n",
      " [65  0]\n",
      " [87  0]\n",
      " [95  0]\n",
      " [29  1]\n",
      " [83  0]\n",
      " [22  1]]\n",
      "-----\n"
     ]
    },
    {
     "data": {
      "text/plain": [
       "array([[65,  0],\n",
       "       [ 0,  1],\n",
       "       [60,  0],\n",
       "       [ 2,  1],\n",
       "       [62,  1],\n",
       "       [87,  0],\n",
       "       [95,  0],\n",
       "       [29,  1],\n",
       "       [83,  0],\n",
       "       [22,  1]])"
      ]
     },
     "execution_count": 20,
     "metadata": {},
     "output_type": "execute_result"
    }
   ],
   "source": [
    "\n",
    "print(arr4)\n",
    "\n",
    "swap_two(0,4,arr4)\n",
    "arr4"
   ]
  },
  {
   "cell_type": "code",
   "execution_count": 28,
   "metadata": {},
   "outputs": [
    {
     "name": "stdout",
     "output_type": "stream",
     "text": [
      "[[12  0]\n",
      " [58  1]\n",
      " [77  1]\n",
      " [90  1]\n",
      " [49  0]\n",
      " [19  1]\n",
      " [21  0]\n",
      " [71  1]\n",
      " [76  1]\n",
      " [44  1]]\n",
      "-----\n",
      "[[12  0]\n",
      " [21  0]\n",
      " [49  0]\n",
      " [58  1]\n",
      " [77  1]\n",
      " [90  1]\n",
      " [19  1]\n",
      " [71  1]\n",
      " [76  1]\n",
      " [44  1]]\n"
     ]
    }
   ],
   "source": [
    "print(arr4)\n",
    "print('-----')\n",
    "order_boolean(arr4)\n",
    "print(arr4)"
   ]
  },
  {
   "cell_type": "markdown",
   "metadata": {},
   "source": [
    "Write a program which takes as input an array of digits encoding a decimal number D and updates the array to represent the array to represent the number D+1. For example, if the input is <1,2,9> then you should update the array to <1,3,0>. Your algorithm shoudl work even if it's implemented on a finite precision machine\n",
    "\n",
    "**Brute Force Solution:** The brute force solution is to convert the array to the integer increment by 1 and then convert it back to an array. Problem here is that finite precision might not work. \n",
    "\n",
    "**Alternate Solution:** Implment this as you learned simple addition. Adding and carrying. Worst case execution of this method is O(n).\n",
    "\n"
   ]
  },
  {
   "cell_type": "code",
   "execution_count": 2,
   "metadata": {},
   "outputs": [],
   "source": [
    "def increment_num_array(arr):\n",
    "    arr_len=len(arr)\n",
    "    #add 1 to the least significant digit\n",
    "    #define a carry if needed from the addition\n",
    "    if(arr[-1]==9):\n",
    "        carry=1\n",
    "        arr[-1]=0\n",
    "    else:\n",
    "        arr[-1]+=1\n",
    "        carry=0\n",
    "    #while we have a carry\n",
    "    index=len(arr)-2\n",
    "    while(carry>0 and index>=0):\n",
    "        curr_val=arr[index]\n",
    "        if(curr_val==9):\n",
    "            arr[index]=0\n",
    "            index-=1\n",
    "        else:\n",
    "            arr[index]=curr_val+1\n",
    "            carry=0\n",
    "    if(carry==1):\n",
    "        arr.insert(0,1)\n",
    "        \n",
    "        \n",
    "    "
   ]
  },
  {
   "cell_type": "code",
   "execution_count": 5,
   "metadata": {},
   "outputs": [
    {
     "data": {
      "text/plain": [
       "[1, 0, 0]"
      ]
     },
     "execution_count": 5,
     "metadata": {},
     "output_type": "execute_result"
    }
   ],
   "source": [
    "test1=[9,9]\n",
    "increment_num_array(test1)\n",
    "test1"
   ]
  },
  {
   "cell_type": "markdown",
   "metadata": {},
   "source": [
    "Variant: Write a program which takes as input two strings s and t of bits encoding binary numbers $B_t$ and $B_s$, respectively and returns a new string of bits representing the number of $B_s +B_t$"
   ]
  },
  {
   "cell_type": "code",
   "execution_count": 18,
   "metadata": {},
   "outputs": [],
   "source": [
    "def add_three_bits(a,b,c):\n",
    "    res=a+b+c\n",
    "    #return first value and the second value is the carry\n",
    "    if(res==3):\n",
    "        return 1,1\n",
    "    elif(res==2):\n",
    "        return 0,1\n",
    "    elif(res==1):\n",
    "        return 1,0 \n",
    "    else:\n",
    "        return 0,0\n",
    "\n",
    "def add_bit_arrays(bt,bs):\n",
    "    #carry for adding the bits\n",
    "    carry=0\n",
    "    bt_len=len(bt)\n",
    "    bs_len=len(bs)\n",
    "    index=max(bt_len,bs_len)-1\n",
    "    answer=[]\n",
    "    for i in range(min(bt_len,bs_len)):\n",
    "        bt_curr=bt[i]\n",
    "        bs_curr=bs[i]\n",
    "        ans_val,carry=add_three_bits(bt_curr,bs_curr,carry)\n",
    "        answer.insert(0,ans_val)\n",
    "        index-=1\n",
    "    #now continue carring but with the larger arr\n",
    "    if(bt_len>bs_len):\n",
    "        longer_arr=bt\n",
    "    elif(bt_len==bs_len):\n",
    "        if(carry==1):\n",
    "            answer.insert(0,1)\n",
    "            return answer\n",
    "        else:\n",
    "            return answer\n",
    "    else:\n",
    "        longer_arr=bs\n",
    "        \n",
    "    while(index>=0):\n",
    "        ans_val,carry=add_three_bits(carry,longer_arr[index],0)\n",
    "        answer.insert(0,ans_val)\n",
    "        index-=1\n",
    "        \n",
    "    if(carry==1):\n",
    "        answer.insert(0,1)\n",
    "    \n",
    "    return answer\n",
    "    \n",
    "    \n",
    "        \n",
    "        \n",
    "    "
   ]
  },
  {
   "cell_type": "code",
   "execution_count": 21,
   "metadata": {},
   "outputs": [
    {
     "name": "stdout",
     "output_type": "stream",
     "text": [
      "[1, 1, 0, 0]\n"
     ]
    },
    {
     "data": {
      "text/plain": [
       "[1, 1, 0]"
      ]
     },
     "execution_count": 21,
     "metadata": {},
     "output_type": "execute_result"
    }
   ],
   "source": [
    "b1=[1,0,0,1]\n",
    "b2=[1,1]\n",
    "print(add_bit_arrays(b1,b2))\n",
    "\n",
    "b1=[1,1]\n",
    "b2=[1,1]\n",
    "add_bit_arrays(b1,b2)"
   ]
  },
  {
   "cell_type": "markdown",
   "metadata": {},
   "source": [
    "Multiply two arbitrary precision integers. Certain applications require arbitraty precision arithmetic. One way to do this is to use arrays to represent integers with one digt per array entry. With the most significant digit appearing first, and a negative leading digit noting a negative integer\n",
    "\n",
    "Write a program that takes two arrays representing integers and returns an integer representing their product.\n",
    "\n",
    "As previously noted the possibilty of overflow precludes us from converting to the integer type. Instead we can use the grade school algorithm for multiplication which consists of multiplying the first number by the first digit add the terms rather than compute all of them then add them up. The number of digits required for the product is at most n+m for n digts and m digit operands\n",
    "\n",
    "For example, when multiplying 123 x 987, we would form 7 x 123=861, then we would form 8 x 123 * 10=9840, which we would add to get 861 to get 10701 then we would form 9 x 123 x 100 = 110700 which we would add to the result to get 121401. \n",
    "\n",
    "All the numbers are represented as arrays"
   ]
  },
  {
   "cell_type": "code",
   "execution_count": 50,
   "metadata": {},
   "outputs": [],
   "source": [
    "def determine_sign(digit1,digit2):\n",
    "    if((digit1>0 and digit2>0) or (digit1<0 and digit2<0)):\n",
    "        return 1\n",
    "    else:\n",
    "        return -1\n",
    "    \n",
    "\n",
    "#result len will dictate the number of leading zeros you want\n",
    "def add_two_bit_arrays(arr1,arr2,result_len):\n",
    "    if(result_len<(max(len(arr1),len(arr2))+1)):\n",
    "        print(len(arr1),len(arr2),result_len)\n",
    "        return \"Not correct result len\"\n",
    "    else:\n",
    "        result=[0]*result_len\n",
    "        #get the size of both arrays\n",
    "        arr1_len=len(arr1)\n",
    "        arr2_len=len(arr2)\n",
    "        #index is the max size of any of the arrays or the result size\n",
    "        index=max(arr2_len,arr1_len,result_len)-1\n",
    "        #larger index is the size of the largest array\n",
    "        larger_index=max(arr2_len,arr1_len)-1\n",
    "        carry=0\n",
    "        #loop through the size of the smaller array\n",
    "        for i in range(-1,-min(len(arr1),len(arr2))-1,-1):\n",
    "            arr1_curr=arr1[i]\n",
    "            arr2_curr=arr2[i]\n",
    "            #calculate the sum and store the carry\n",
    "            sum1=str(arr1_curr+arr2_curr+carry)\n",
    "            if(len(sum1)==1):\n",
    "                carry=0\n",
    "                result[i]=int(sum1[0])\n",
    "            else:\n",
    "                carry=int(sum1[0])\n",
    "                result[i]=int(sum1[1])\n",
    "            #decrease the size of arrays respectively, index is the max size\n",
    "            index-=1 \n",
    "            larger_index-=1\n",
    "            \n",
    "        #sanity check\n",
    "        #print(index,carry)\n",
    "        \n",
    "        #now continue carring but with the larger arr\n",
    "        if(arr1_len>arr2_len):\n",
    "            longer_arr=arr1\n",
    "        elif(arr1_len==arr2_len):\n",
    "            if(carry>0):\n",
    "                result[index]=carry\n",
    "                return result\n",
    "            else:\n",
    "                return result\n",
    "        else:\n",
    "            longer_arr=arr2\n",
    "            \n",
    "        #finish adding with the longer array\n",
    "        #print(result,carry,larger_index)\n",
    "        while(larger_index>=0):\n",
    "            sum1=str(longer_arr[larger_index]+carry)\n",
    "            if(len(sum1)==1):\n",
    "                carry=0\n",
    "                result[index]=int(sum1)\n",
    "            else:\n",
    "                carry=int(sum1[0])\n",
    "                result[index]=int(sum1[1])\n",
    "            index-=1\n",
    "            larger_index-=1\n",
    "            \n",
    "        if(carry>0):\n",
    "            result[index]=carry\n",
    "        else:\n",
    "            return result\n",
    "            \n",
    "            \n",
    "\n",
    "    \n",
    "\n",
    "\n",
    "\n",
    "def multiply_two_bit_arrays(arr1,arr2):\n",
    "    #determine if the number is negative or positive\n",
    "    sign_multiplier=determine_sign(arr1[1],arr2[1])\n",
    "    #the result will be a maximum of n+m elements\n",
    "    answer=[0]*(len(arr1)+len(arr2))\n",
    "    \n",
    "    #mult_factor makes sure we are multiplying properly by 10 for the \n",
    "    #elementary multiplication factor\n",
    "    mult_factor=0\n",
    "    for i in range(len(arr1)-1,-1,-1):\n",
    "        curr_result=[0]*mult_factor\n",
    "        carry=0\n",
    "        mult=arr1[i]\n",
    "        for j in range (len(arr2)-1,-1,-1):\n",
    "            mult1=str((mult*arr2[j])+carry)\n",
    "            if(len(mult1)==1):\n",
    "                carry=0\n",
    "                curr_result.insert(0,int(mult1[0]))\n",
    "            else:\n",
    "                carry=int(mult1[0])\n",
    "                curr_result.insert(0,int(mult1[1]))\n",
    "        if(carry>0):\n",
    "            curr_result.insert(0,carry)\n",
    "        \n",
    "        mult_factor+=1\n",
    "        answer=add_two_bit_arrays(curr_result,answer,len(answer)+1)\n",
    "        #print(curr_result,answer)\n",
    "    #strip leading zeros\n",
    "    for k in range(len(answer)):\n",
    "        if(answer[0]==0):\n",
    "            answer.pop(0)\n",
    "        else:\n",
    "            break\n",
    "        \n",
    "    return answer\n",
    "    \n",
    "    \n",
    "    \n",
    "    "
   ]
  },
  {
   "cell_type": "code",
   "execution_count": 9,
   "metadata": {},
   "outputs": [
    {
     "name": "stdout",
     "output_type": "stream",
     "text": [
      "[0, 2, 9, 9]\n",
      "[0, 2, 0, 0]\n",
      "[0, 1, 0, 0]\n",
      "[0, 2, 0, 0]\n"
     ]
    }
   ],
   "source": [
    "#multiply_two_bit_arrays([1,2,3],[1,2])\n",
    "print(add_two_bit_arrays([2,0,0],[9,9],4))\n",
    "print(add_two_bit_arrays([1,0,3],[9,7],4))\n",
    "print(add_two_bit_arrays([0,5,0],[5,0],4))\n",
    "print(add_two_bit_arrays([1,3,0],[7,0],4))"
   ]
  },
  {
   "cell_type": "code",
   "execution_count": 51,
   "metadata": {},
   "outputs": [
    {
     "data": {
      "text/plain": [
       "[2, 5, 3, 0, 1, 6, 6, 8, 2, 9, 7, 8, 7, 2, 2, 1, 7, 2]"
      ]
     },
     "execution_count": 51,
     "metadata": {},
     "output_type": "execute_result"
    }
   ],
   "source": [
    "multiply_two_bit_arrays([5,5,6,6,2,3,2,3],[4,5,4,5,5,6,4,5,6,4])"
   ]
  },
  {
   "cell_type": "markdown",
   "metadata": {},
   "source": [
    "Advancing through an array. In a particular game, a player has to try to advance through a sequence of positions. Each position has non-negative integer associated with it represenitng the maximum you can advance from that position in one move. You begin at the first position and win by getting to the last position. For example A=[3,3,1,0,2,0,1] represent the board game. The $i_{th}$ entry in A is the maximum we can advance from i.\n",
    "\n",
    "**problem**: Write a program which takes an array of n integers, where A[i] denotes the maximum you can advance from index i, and returns whether it is possible to advance to the last index starting from the beginning of the array."
   ]
  },
  {
   "cell_type": "code",
   "execution_count": 16,
   "metadata": {},
   "outputs": [],
   "source": [
    "def select_max(index,curr_location_val,arr):\n",
    "    #get list of possible steps\n",
    "    possible_steps=arr[index+1:index+curr_location_val+1]\n",
    "    #if this list is empty we failed\n",
    "    if(len(possible_steps)==0):\n",
    "        return -1\n",
    "    else:\n",
    "        #select max step here\n",
    "        max_stepper=max(possible_steps)\n",
    "        #index of max_step if they are the same select the farther one in the array\n",
    "        index_new=possible_steps.index(max_stepper)\n",
    "        return index+index_new+1\n",
    "    \n",
    "def gameWon(arr):\n",
    "    last_index=len(arr)-1\n",
    "    index=0\n",
    "    won=False\n",
    "    while (not won):\n",
    "        curr_location_val=arr[index]\n",
    "        index=select_max(index,curr_location_val,arr)\n",
    "        if(index==-1):\n",
    "            return False\n",
    "        elif (index==last_index):\n",
    "            return True\n",
    "    "
   ]
  },
  {
   "cell_type": "code",
   "execution_count": 30,
   "metadata": {},
   "outputs": [
    {
     "name": "stdout",
     "output_type": "stream",
     "text": [
      "True\n",
      "False\n",
      "False\n",
      "True\n"
     ]
    }
   ],
   "source": [
    "bookExample1=[3,3,1,0,2,0,1]\n",
    "bookExample2=[3,2,0,0,2,0,1]\n",
    "myExample1=[0,0,0,1]\n",
    "myExample2=[6,4,4,4,1,1,1,1,0]\n",
    "\n",
    "print(gameWon(bookExample1))\n",
    "print(gameWon(bookExample2))\n",
    "print(gameWon(myExample1))\n",
    "print(gameWon(myExample2))"
   ]
  },
  {
   "cell_type": "markdown",
   "metadata": {},
   "source": [
    "Their Implementation: As we iterate through the array we track the furthest index we know we can advance to from index is i+A[i]. If for some i before the end of the array i is the furthest index that we have demonstrated that we can reach then we can't reach the end.\n",
    "\n"
   ]
  },
  {
   "cell_type": "code",
   "execution_count": 28,
   "metadata": {},
   "outputs": [],
   "source": [
    "def canReachEnd(arr):\n",
    "    farthest_reached=0\n",
    "    index=0\n",
    "    last_index=len(arr)-1\n",
    "    while (index<=farthest_reached and index<last_index):\n",
    "        farthest_reached=max(index+arr[index],farthest_reached)\n",
    "        index+=1\n",
    "    if farthest_reached>=last_index:\n",
    "        return True\n",
    "    else:\n",
    "        return False"
   ]
  },
  {
   "cell_type": "code",
   "execution_count": 32,
   "metadata": {},
   "outputs": [
    {
     "data": {
      "text/plain": [
       "True"
      ]
     },
     "execution_count": 32,
     "metadata": {},
     "output_type": "execute_result"
    }
   ],
   "source": [
    "canReachEnd(bookExample1)"
   ]
  },
  {
   "cell_type": "markdown",
   "metadata": {},
   "source": [
    "**Problem:** Implement a function which takes as input an array and a key and updates the array so that all occurrences of the input key have been removed and the remaining entries have been shifted left to fill the empty indices. Return the remaining elements. There are no requirements as to the values stored beyond the last valid element.\n",
    "\n",
    "Questiosn I would ask an interviewer: What values can the keys take? Can I store anything in the array like a list in python?"
   ]
  },
  {
   "cell_type": "code",
   "execution_count": 5,
   "metadata": {},
   "outputs": [],
   "source": [
    "def delete_key(key,arr):\n",
    "    delete_elements=[]\n",
    "    #select all the elements to be deleted\n",
    "    for i in range(len(arr)):\n",
    "        if arr[i]==key:\n",
    "            delete_elements.append(i)\n",
    "    #return array with all elements not in delete_elements\n",
    "    new_arr=[]\n",
    "    for i in range(len(arr)):\n",
    "        if i in delete_elements:\n",
    "            continue\n",
    "        else:\n",
    "            new_arr.append(arr[i])\n",
    "    return new_arr\n",
    "            \n",
    "    "
   ]
  },
  {
   "cell_type": "code",
   "execution_count": 6,
   "metadata": {},
   "outputs": [
    {
     "data": {
      "text/plain": [
       "[5, 7, 11, 2, 13, 5, 7]"
      ]
     },
     "execution_count": 6,
     "metadata": {},
     "output_type": "execute_result"
    }
   ],
   "source": [
    "bookTest=[5,3,7,11,2,3,13,5,7]\n",
    "delete_key(3,bookTest)"
   ]
  },
  {
   "cell_type": "markdown",
   "metadata": {},
   "source": [
    "The time complexity for this solution is O(n) but also O(n) space complexity. where n is the length of the input array. We can trade the time complexity for space complexity. By every time we find an element equal to the key we move the elements to the left. This is poor if the key occurs frequently. Time complexity for this is O($n^2$). This would be the case if all entries were equal to the key.\n",
    "\n",
    "The key here to improving complexity while sticking to O(1) space is avoiding wasted copies. Note that if we iterate through the array an element not equal to the key that we move to the left never needs to be moved again. At a top level our algorithm skips over elements equal to the key, and tracks the location the next value not equal to the key should be written to.\n",
    "\n",
    "The following solution is O(n) and O(1) space complexity"
   ]
  },
  {
   "cell_type": "code",
   "execution_count": 15,
   "metadata": {},
   "outputs": [],
   "source": [
    "def delete_key_two(key,arr):\n",
    "    index=0\n",
    "    write_index=0\n",
    "    num_keys=0\n",
    "    #flag that makes sure we traverse the array if no keys \n",
    "    #are present\n",
    "    shift_left=False\n",
    "    while(index<len(arr)):\n",
    "        if(arr[index]!=key and (not shift_left)):\n",
    "            index+=1\n",
    "            write_index+=1\n",
    "        elif(arr[index]==key):\n",
    "            shift_left=True\n",
    "            num_keys+=1\n",
    "            index+=1\n",
    "        elif(arr[index]!=key and shift_left):\n",
    "            arr[write_index]=arr[index]\n",
    "            write_index+=1\n",
    "            index+=1\n",
    "    \n",
    "    #make sure the array is valid at the end\n",
    "    if(num_keys>0):\n",
    "        arr=arr[:-num_keys]\n",
    "    return arr\n",
    "        \n",
    "        "
   ]
  },
  {
   "cell_type": "code",
   "execution_count": 17,
   "metadata": {},
   "outputs": [
    {
     "data": {
      "text/plain": [
       "[5, 7, 11, 2, 13, 5, 7]"
      ]
     },
     "execution_count": 17,
     "metadata": {},
     "output_type": "execute_result"
    }
   ],
   "source": [
    "bookTest=[5,3,7,11,2,3,13,5,7]\n",
    "delete_key_two(3,bookTest)"
   ]
  },
  {
   "cell_type": "code",
   "execution_count": 19,
   "metadata": {},
   "outputs": [
    {
     "data": {
      "text/plain": [
       "[]"
      ]
     },
     "execution_count": 19,
     "metadata": {},
     "output_type": "execute_result"
    }
   ],
   "source": [
    "myTest=[3,3,3,3,3,3,3]\n",
    "delete_key_two(3,myTest)"
   ]
  },
  {
   "cell_type": "markdown",
   "metadata": {},
   "source": [
    "**Problem:** This problem is concerned with deleting repeated elements from a sorted array for example, for the array [2,3,5,5,7,11,11,11,13] then after the deletion, the array is [2,3,5,7,13,0,0,0]. Your solution should be O(n) and O(1) space. "
   ]
  },
  {
   "cell_type": "code",
   "execution_count": 25,
   "metadata": {},
   "outputs": [],
   "source": [
    "def delete_key_two(key,arr):\n",
    "    index=0\n",
    "    write_index=0\n",
    "    num_keys=0\n",
    "    #flag that makes sure we traverse the array if no keys \n",
    "    #are present\n",
    "    shift_left=False\n",
    "    while(index<len(arr)):\n",
    "        if(arr[index]!=key and (not shift_left)):\n",
    "            index+=1\n",
    "            write_index+=1\n",
    "        elif(arr[index]==key):\n",
    "            shift_left=True\n",
    "            num_keys+=1\n",
    "            index+=1\n",
    "        elif(arr[index]!=key and shift_left):\n",
    "            arr[write_index]=arr[index]\n",
    "            write_index+=1\n",
    "            index+=1\n",
    "    \n",
    "    #make sure the array is valid at the end\n",
    "    if(num_keys>0):\n",
    "        arr=arr[:-num_keys]\n",
    "    return arr\n",
    "\n",
    "\n",
    "def delete_duplicates(arr):\n",
    "    curr_val=None\n",
    "    #Loop through the array and set duplicates to zero\n",
    "    for i in range(0,len(arr)):\n",
    "        if(i>0):\n",
    "            if(arr[i]==curr_val):\n",
    "                arr[i]=0\n",
    "            else:\n",
    "                curr_val=arr[i]\n",
    "        else:\n",
    "            curr_val=arr[i]  \n",
    "    #loop through the array and move values left 1 if the value is 0 to the left\n",
    "    #actually I can use the solution I wrote above \n",
    "    return delete_key_two(0,arr)"
   ]
  },
  {
   "cell_type": "code",
   "execution_count": 26,
   "metadata": {},
   "outputs": [
    {
     "name": "stdout",
     "output_type": "stream",
     "text": [
      "[2, 3, 5, 7, 11, 13]\n"
     ]
    }
   ],
   "source": [
    "arr=[2,3,5,5,7,11,11,11,13]\n",
    "print(delete_duplicates(arr))"
   ]
  },
  {
   "cell_type": "markdown",
   "metadata": {},
   "source": [
    "Buy and selling a stock. Consider the followung sequence of stock prices: <310, 315, 275, 295, 260, 270, 290, 230, 255, 250>. The maximum profit that can be made by one buy one sell is 30. Buy at 260 and sell at 290. \n",
    "\n",
    "**Problem:** Write a program that takes an array denoting the daily stock price, and returns the maximum profit that coulde be made by buying and then selling one share of that stock. \n",
    "\n",
    "Brute force is O$(n^2)$. Compare all values i<j\n",
    "\n"
   ]
  },
  {
   "cell_type": "code",
   "execution_count": 3,
   "metadata": {},
   "outputs": [],
   "source": [
    "def stock_bf(stock_list):\n",
    "    max_profit=0\n",
    "    for i in range(len(stock_list)):\n",
    "        for j in range(i+1,len(stock_list)):\n",
    "            diff=stock_list[j]-stock_list[i]\n",
    "            if(diff>max_profit):\n",
    "                max_profit=diff\n",
    "    return max_profit\n",
    "            "
   ]
  },
  {
   "cell_type": "code",
   "execution_count": 6,
   "metadata": {},
   "outputs": [
    {
     "data": {
      "text/plain": [
       "30"
      ]
     },
     "execution_count": 6,
     "metadata": {},
     "output_type": "execute_result"
    }
   ],
   "source": [
    "stocks=[310, 315, 275, 295, 260, 270, 290, 230, 255, 250]\n",
    "stock_bf(stocks)"
   ]
  },
  {
   "cell_type": "markdown",
   "metadata": {},
   "source": [
    "More efficient approach: more specifically we showed how to compute the maximum profit by computing the difference of the current entry with the minimum value seen so far as we iterate through the array. This is O$(n)$ and constant space O(1)"
   ]
  },
  {
   "cell_type": "code",
   "execution_count": 7,
   "metadata": {},
   "outputs": [],
   "source": [
    "def stock_efficient(stock_list):\n",
    "    #minimum price encountered so far\n",
    "    min_price=stock_list[0]\n",
    "    #max profit so far\n",
    "    max_profit=0\n",
    "    for i in range(len(stock_list)):\n",
    "        diff=stock_list[i]-min_price\n",
    "        if diff>max_profit:\n",
    "            max_profit=diff\n",
    "        #store the minimum price encountered so far\n",
    "        if(stock_list[i]<min_price):\n",
    "            min_price=stock_list[i]\n",
    "    return max_profit"
   ]
  },
  {
   "cell_type": "code",
   "execution_count": 8,
   "metadata": {},
   "outputs": [
    {
     "data": {
      "text/plain": [
       "30"
      ]
     },
     "execution_count": 8,
     "metadata": {},
     "output_type": "execute_result"
    }
   ],
   "source": [
    "stock_efficient(stocks)"
   ]
  },
  {
   "cell_type": "markdown",
   "metadata": {},
   "source": [
    "**Problem:** Write a program that takes an array of integers and finds the length of the longest subarray all of who entries are equal"
   ]
  },
  {
   "cell_type": "code",
   "execution_count": 14,
   "metadata": {},
   "outputs": [],
   "source": [
    "def longest_equal_subarray(arr):\n",
    "    #same count \n",
    "    count=0\n",
    "    previous_max=0\n",
    "    previous_num=arr[0]\n",
    "    start_index=0\n",
    "    end_index=0\n",
    "    #loop through the array\n",
    "    for i in range(len(arr)):\n",
    "        if(previous_num==arr[i] and i>0):\n",
    "            count+=1\n",
    "            if(count>previous_max):\n",
    "                previous_max+=1\n",
    "                start_index=i-count\n",
    "                end_index=i\n",
    "        else:\n",
    "            count=0\n",
    "        previous_num=arr[i]\n",
    "    print(start_index,end_index)\n",
    "    return(arr[start_index:end_index+1])"
   ]
  },
  {
   "cell_type": "code",
   "execution_count": 17,
   "metadata": {},
   "outputs": [
    {
     "name": "stdout",
     "output_type": "stream",
     "text": [
      "7 9\n",
      "[1, 1, 1]\n",
      "0 8\n",
      "[4, 4, 4, 4, 4, 4, 4, 4, 4]\n",
      "0 0\n"
     ]
    },
    {
     "data": {
      "text/plain": [
       "[21]"
      ]
     },
     "execution_count": 17,
     "metadata": {},
     "output_type": "execute_result"
    }
   ],
   "source": [
    "long_subarray_test=[21,4,5,5,6,2,3,1,1,1,2,3,4,4]\n",
    "long_subarray_test2=[4,4,4,4,4,4,4,4,4]\n",
    "long_subarray_test3=[21,4,5,6,2,3,1,2,3,4]\n",
    "print(longest_equal_subarray(long_subarray_test))\n",
    "print(longest_equal_subarray(long_subarray_test2))\n",
    "longest_equal_subarray(long_subarray_test3)\n"
   ]
  },
  {
   "cell_type": "markdown",
   "metadata": {},
   "source": [
    "**Problem:** The max difference problem can be made by buying and selling a share at most twice. The second can be made after the first sale.\n",
    "\n",
    "Apparently the brute force solution is $O(n^4)$ tbh I have no idea how to do this brute force. I do have an idea. The max profit calculation can be done in two phases. Using the previous algorithm for max trades. Zeros correspond to buy days and the rest represent profits. For the two days So we just combine the max profits of the arrays corresponding to buy and sell days\n",
    "\n",
    "This is my solution"
   ]
  },
  {
   "cell_type": "code",
   "execution_count": 16,
   "metadata": {},
   "outputs": [],
   "source": [
    "def append_possible_maxes(arr):\n",
    "    curr_max=0\n",
    "    maxes=[]\n",
    "    #need to loop through the array\n",
    "    for i in range(len(arr)):\n",
    "        curr_val=arr[i]\n",
    "        if(curr_val==0):\n",
    "            if(curr_max>0):\n",
    "                maxes.append(curr_max)\n",
    "            curr_max=0\n",
    "        else:\n",
    "            if(curr_val>curr_max):\n",
    "                curr_max=curr_val\n",
    "    #if we are at the end of the array\n",
    "    if(curr_max>0):\n",
    "        maxes.append(curr_max)\n",
    "    return maxes\n",
    "        \n",
    "\n",
    "def buySellStockTwice(stocks_list):\n",
    "    #compute max profits similar to above\n",
    "    minimum_value=stocks_list[0]\n",
    "    for i in range(len(stocks_list)):\n",
    "        curr_value=stocks_list[i]\n",
    "        diff=curr_value-minimum_value\n",
    "        if diff>=0:\n",
    "            stocks_list[i]=diff\n",
    "        else:\n",
    "            minimum_value=curr_value\n",
    "            stocks_list[i]=0\n",
    "    print(stocks_list)\n",
    "    maxes=append_possible_maxes(stocks_list)\n",
    "    #the max profit will be the sum of the two largest elements\n",
    "    max1=max(maxes)\n",
    "    maxes.remove(max1)\n",
    "    return max1+max(maxes)\n",
    "    \n",
    "\n",
    "    "
   ]
  },
  {
   "cell_type": "code",
   "execution_count": 18,
   "metadata": {},
   "outputs": [
    {
     "name": "stdout",
     "output_type": "stream",
     "text": [
      "[0, 5, 0, 20, 0, 10, 30, 0, 25, 20]\n",
      "55\n",
      "[0, 0, 2, 0, 3, 0, 6, 5, 7]\n"
     ]
    },
    {
     "data": {
      "text/plain": [
       "10"
      ]
     },
     "execution_count": 18,
     "metadata": {},
     "output_type": "execute_result"
    }
   ],
   "source": [
    "stocks=[310, 315, 275, 295, 260, 270, 290, 230, 255, 250]\n",
    "stocks2=[12,11,13,9,12,8,14,13,15]\n",
    "print(buySellStockTwice(stocks))\n",
    "buySellStockTwice(stocks2)"
   ]
  },
  {
   "cell_type": "markdown",
   "metadata": {},
   "source": [
    "Let's look at what the book's solution is. Nah fam next problem"
   ]
  },
  {
   "cell_type": "markdown",
   "metadata": {},
   "source": [
    "**Problem:** A natural number is called a prime if it is bigger than 1 and has no divisors other than 1 and itself. Write a program that takes an integer argument and returns all primes between 1 and that integer. For example if the input is 18, you should return <2,3,5,6,11,13,17>"
   ]
  },
  {
   "cell_type": "code",
   "execution_count": 10,
   "metadata": {},
   "outputs": [],
   "source": [
    "import math\n",
    "#O(n^(1/2) isPrime)\n",
    "def is_prime(n):\n",
    "    for i in range(2,int(math.sqrt(n))+1):\n",
    "        if n%i==0:\n",
    "            return False\n",
    "    return True\n",
    "\n",
    "def print_primes(n):\n",
    "    primes=[]\n",
    "    for i in range(2,n+1):\n",
    "        is_prime_num=is_prime(i)\n",
    "        if(is_prime_num):\n",
    "            primes.append(i)\n",
    "    print(primes)\n",
    "            "
   ]
  },
  {
   "cell_type": "code",
   "execution_count": 11,
   "metadata": {},
   "outputs": [
    {
     "name": "stdout",
     "output_type": "stream",
     "text": [
      "[2, 3, 5, 7, 11, 13, 17]\n"
     ]
    }
   ],
   "source": [
    "print_primes(18)"
   ]
  },
  {
   "cell_type": "markdown",
   "metadata": {},
   "source": [
    "The above solutions is the natural brute force algorithm. We iterate over all i from i to n, where n is the input to the program. For each i we test if i is prime; if so we add it to the result. The test to see if a number is prime is to test from i to the sqrt of the number. This $O(n^{3/2})$. However this treats each independently. Heuristically a better approach is to compute the primes and when a number is identified as a prime to remove all multiples of this prime from future consideration. \n",
    "\n",
    "We use a boolean array to encode the candidates, i.e if the ith entry in the array, then i is potentially a prime. Initially every number greater than or equal to 2 is a candidate. Whenever we determine a number is prime, we will add it to the result which is an array. The first prime is 2 so we remove all multiples of 2 from the array. Then we do 3. We continue until we get to the end of candidates"
   ]
  },
  {
   "cell_type": "code",
   "execution_count": 43,
   "metadata": {},
   "outputs": [],
   "source": [
    "#test for finding prime \n",
    "def is_prime(n):\n",
    "    for i in range(2,int(math.sqrt(n))+1):\n",
    "        if n%i==0:\n",
    "            return False\n",
    "    return True\n",
    "\n",
    "def remove_all_multiples(boolean_arr,candidates,index,num):\n",
    "    for i in range(index,len(boolean_arr)):\n",
    "        if candidates[i]%num==0:\n",
    "            boolean_arr[i]=False\n",
    "            \n",
    "def print_primes(n):\n",
    "    #initialize the candidates\n",
    "    candidates=list(range(2,n+1))\n",
    "    boolean_arr=[True]*len(candidates)\n",
    "    primes=[]\n",
    "    for i in range(len(candidates)):\n",
    "        if(not boolean_arr[i]):\n",
    "            continue\n",
    "        else:\n",
    "            is_prime_num=is_prime(candidates[i])\n",
    "            if(is_prime_num):\n",
    "                primes.append(candidates[i])\n",
    "                remove_all_multiples(boolean_arr,candidates,i+1,candidates[i])\n",
    "    return primes\n",
    "        \n",
    "    \n",
    "        \n",
    "    "
   ]
  },
  {
   "cell_type": "code",
   "execution_count": 44,
   "metadata": {},
   "outputs": [
    {
     "data": {
      "text/plain": [
       "[2, 3, 5, 7, 11, 13, 17, 19, 23, 29, 31, 37, 41, 43, 47]"
      ]
     },
     "execution_count": 44,
     "metadata": {},
     "output_type": "execute_result"
    }
   ],
   "source": [
    "print_primes(50)"
   ]
  },
  {
   "cell_type": "markdown",
   "metadata": {},
   "source": [
    "Long talk about how this is better than trial by division. There are some optimizations that need to be made for one instead of looping throught the array to remove multiples I can just compute all the indexes in constant time. The final time complexity is then O$(n log log n)$ yeah tldr."
   ]
  },
  {
   "cell_type": "markdown",
   "metadata": {},
   "source": [
    "Permutation: A permutation is a rearrangement of members of sequence into a sequence. For example there are 24 permutations of <a,b,c,d>. A permutation can be specified by an array p, where P[i] represents the location of the element at i in the permutation. For example <2,0,1,3> represents the permutation that maps the element at location 0 to location 2 and so on. \n",
    "So it would yield the array <b,c,a,d>\n",
    "\n",
    "**Problem**: given an array of A n elements and a Permutation P, apply P to A\n"
   ]
  },
  {
   "cell_type": "code",
   "execution_count": 16,
   "metadata": {},
   "outputs": [],
   "source": [
    "def swap(arr,i,j):\n",
    "    arr[j],arr[i]=arr[i],arr[j]\n",
    "\n",
    "\n",
    "#function that takes in a permutation array and maps the elements \n",
    "#in A to that permutation\n",
    "def permute_array(permutation,arr):\n",
    "    arr_len=len(arr)\n",
    "    index=0\n",
    "    while (index<arr_len):\n",
    "        ind=permutation[index]\n",
    "        if(ind==index):\n",
    "            index+=1\n",
    "        else:\n",
    "            swap(arr,ind,index)\n",
    "            swap(permutation,ind,index)\n",
    "\n",
    "            \n",
    "#This is O(n) time and O(n) space\n",
    "def compute_reverse_permutation(permutation):\n",
    "    indexes=list(range(len(permutation)))\n",
    "    permute_array(permutation,indexes)\n",
    "    return indexes"
   ]
  },
  {
   "cell_type": "code",
   "execution_count": 15,
   "metadata": {},
   "outputs": [
    {
     "name": "stdout",
     "output_type": "stream",
     "text": [
      "input: ['a', 'b', 'c', 'd']\n",
      "output: ['c', 'b', 'a', 'd']\n",
      "output: ['a', 'b', 'c', 'd']\n",
      "input: ['a', 'b', 'c', 'd']\n",
      "output: ['b', 'c', 'a', 'd']\n",
      "output: ['c', 'a', 'b', 'd']\n",
      "input: ['a', 'b', 'c', 'd', 'e', 'f']\n",
      "output: ['b', 'c', 'a', 'd', 'f', 'e']\n"
     ]
    }
   ],
   "source": [
    "test_array=['a','b','c','d']\n",
    "print('input:',test_array)\n",
    "p1=[2,1,0,3]\n",
    "permute_array(p1,test_array)\n",
    "print('output:',test_array)\n",
    "p1=[2,1,0,3]\n",
    "permute_array(p1,test_array)\n",
    "print('output:',test_array)\n",
    "\n",
    "test_array=['a','b','c','d']\n",
    "print('input:',test_array)\n",
    "p1=[2,0,1,3]\n",
    "permute_array(p1,test_array)\n",
    "print('output:',test_array)\n",
    "p1=[2,0,1,3]\n",
    "permute_array(p1,test_array)\n",
    "print('output:',test_array)\n",
    "\n",
    "\n",
    "test_array=['a','b','c','d','e','f']\n",
    "print('input:',test_array)\n",
    "p1=[2,0,1,3,5,4]\n",
    "permute_array(p1,test_array)\n",
    "print('output:',test_array)"
   ]
  },
  {
   "cell_type": "markdown",
   "metadata": {},
   "source": [
    "I think my solutions is pretty elegant lmao (first time in my whole life). The time complexity is O(n) and the space complexity is O(n)."
   ]
  },
  {
   "cell_type": "code",
   "execution_count": 18,
   "metadata": {},
   "outputs": [
    {
     "data": {
      "text/plain": [
       "[1, 2, 0, 3]"
      ]
     },
     "execution_count": 18,
     "metadata": {},
     "output_type": "execute_result"
    }
   ],
   "source": [
    "compute_reverse_permutation([2,0,1,3])"
   ]
  },
  {
   "cell_type": "markdown",
   "metadata": {},
   "source": [
    "**Computing the next permutation:** There exist exactly $n!$ permutations of n elements. These can be totally ordered using the dictionary ordering. Define permutation p to appear before permutation q if in the first place where p and q differ in theier array represnetations, starting from index 0 the corresponding entry for p is less than that of q. For example, [2,0,1] < [2,1,0]. Note that the permutation <0,1,2> is the smalles permutation under dictionary ordering and <2,1,0> is the largest\n",
    "\n",
    "**Problem**: Write a program that takes as input a permutation and returns the next permutation under dictionary ordering. If the permutation is the last permutation return the empty array. For example, if the input is <1,0,3,2> your function should return <1,2,0,3>. If it is <3,2,1,0> return <>"
   ]
  },
  {
   "cell_type": "code",
   "execution_count": 67,
   "metadata": {},
   "outputs": [],
   "source": [
    "#My strategy increment from the left and find the entry that can't be incremented, \n",
    "#increment the entry to the left of that with the smallest entry from that point to the end of the array\n",
    "\n",
    "\n",
    "def find_next_increment_entry(arr):\n",
    "    max_element=len(arr)-1\n",
    "    for i in range(len(arr)):\n",
    "        if(arr[i]+1<=max_element):\n",
    "            continue\n",
    "        else:\n",
    "            return i-1\n",
    "        \n",
    "def find_next_increment_last_set(arr):\n",
    "    reverse_list=list(range(len(arr)))[::-1]\n",
    "    max_element=len(arr)-1\n",
    "    if(arr[0]==max_element):\n",
    "        if(arr==reverse_list):\n",
    "            return -1\n",
    "        else:\n",
    "            return find_next_increment_last_set(arr[1:])+1\n",
    "    else:\n",
    "        return find_next_increment_entry(arr)\n",
    "def next_permutation(arr):\n",
    "    #find the index to increment from\n",
    "    index=find_next_increment_entry(arr)\n",
    "    if(index<0):\n",
    "        index=find_next_increment_last_set(arr)   \n",
    "    if(index>=0):\n",
    "        #get the beginning of the array\n",
    "        begin=arr[:index]\n",
    "        #increment the entry:\n",
    "        increment_element=[min(arr[index+1:])]\n",
    "        print(increment_element)\n",
    "        #remove that element from the upper section of the array\n",
    "        candidates=arr[index:]\n",
    "        print(candidates)\n",
    "        if(len(candidates)>0):\n",
    "            candidates.remove(increment_element[0])\n",
    "            candidates=sorted(candidates)\n",
    "            \n",
    "        return begin+increment_element+candidates\n",
    "    else:\n",
    "        return []\n",
    "    \n",
    "    \n",
    "    "
   ]
  },
  {
   "cell_type": "code",
   "execution_count": 69,
   "metadata": {},
   "outputs": [
    {
     "name": "stdout",
     "output_type": "stream",
     "text": [
      "[0]\n",
      "[1, 2, 0]\n"
     ]
    },
    {
     "data": {
      "text/plain": [
       "[3, 0, 1, 2]"
      ]
     },
     "execution_count": 69,
     "metadata": {},
     "output_type": "execute_result"
    }
   ],
   "source": [
    "## Alright Valiant Effort above it can work with a lot of tweaks. Let's look at the book solution now"
   ]
  },
  {
   "cell_type": "markdown",
   "metadata": {},
   "source": [
    "A brute force approach might be to find all permutations whose length eqauls that of the input array. Sort them according to the dictionary order, then find the successor. Apart from the enormous time and space complexity. This entails  simply computing all permutations of length n is a non-trivial. \n",
    "\n",
    "The key insight is that we want to increase the permutation by as little as possible. The loose analogy is how a car's odometer increments; the difference is that we cannot change the values only reorder them.\n",
    "\n",
    "Let's use this permutation <6,2,1,5,4,3,0> to develop this approach.\n",
    "\n",
    "Specifically, we start from the right and look at longest decreasing suffix, which is <5,4,3,0> for our example. We cannot get the next permutation just by modifying this suffix since it is already the maximum it can be\n",
    "\n",
    "Instead we look at the entry that appears before the longest decreasing suffix, which is one in this case. (if there's no such element, then there is no next permutation. \n",
    "\n",
    "Observe that e must less than some entries in the suffix (since the entry immediately after it is greater than e). Intuitibely we swap e with the smallest entry in the suffix which is larger than e, so as to minimize the change to the prefix. We are not done yet--the new prefix is the smallest possible but the suffix may not be the smallest. We can het the smallest suffix by sorting the entries in the suffix from smallest to largest\n",
    "\n",
    "As an optimization it is not necessary to call a full blown sorting algorithm on the suffix. Since the suffix was initially decreasing, after replacing s by e it remains decreasing just reverse the suffix and this will be sorting.\n",
    "\n",
    "General algorithm: \n",
    "1. Find k such that p[k]<p[k+1] and entries after index k appear in non-decreasing order\n",
    "2. Find the smallest p[l] such that p[l]>p[k] (such an l must exist since p[k]<p[k+1]\n",
    "3. Swap p[l] and p[k]\n",
    "4. reverse the sequence after position k.\n",
    "\n",
    "\n",
    "\n"
   ]
  },
  {
   "cell_type": "code",
   "execution_count": 19,
   "metadata": {},
   "outputs": [],
   "source": [
    "def swap(arr,i,j):\n",
    "    item1=arr[i]\n",
    "    item2=arr[j]\n",
    "    arr[j],arr[i]=item1,item2\n",
    "\n",
    "    \n",
    "def compute_min_swap(value,arr):\n",
    "    min_el=1e10\n",
    "    index=0\n",
    "    for i in range(len(arr)):\n",
    "        el=arr[i]\n",
    "        if(el<min_el and el>value):\n",
    "            min_el=el\n",
    "            index=i\n",
    "    return index\n",
    "\n",
    "def compute_next_permutation(arr):\n",
    "    #Initialize the suffix index as the last element in the array\n",
    "    k=len(arr)-1\n",
    "    #Looping from right to left increase the suffix if its non_decreasing\n",
    "    for i in range(len(arr)-1,0,-1):\n",
    "        item1=arr[i]\n",
    "        item2=arr[i-1]\n",
    "        if(item1<item2):\n",
    "            k=i-1\n",
    "        else:\n",
    "            break\n",
    "    #Sample the suffix\n",
    "    suffix=arr[k:]\n",
    "    #compute the swap index in the prefix\n",
    "    prefix_swap=k-1\n",
    "    #if its outside the array then we are done\n",
    "    if(prefix_swap<0):\n",
    "        return []\n",
    "    else:\n",
    "        #otherwise swap and return the array\n",
    "        swap_index=compute_min_swap(arr[prefix_swap],suffix)+k\n",
    "        swap(arr,swap_index,prefix_swap)\n",
    "        arr=arr[:k]+arr[k:][::-1] \n",
    "        return arr"
   ]
  },
  {
   "cell_type": "code",
   "execution_count": 20,
   "metadata": {},
   "outputs": [
    {
     "data": {
      "text/plain": [
       "[2, 0, 1]"
      ]
     },
     "execution_count": 20,
     "metadata": {},
     "output_type": "execute_result"
    }
   ],
   "source": [
    "test1=[1,2,0]\n",
    "compute_next_permutation(test1)"
   ]
  },
  {
   "cell_type": "code",
   "execution_count": 28,
   "metadata": {},
   "outputs": [],
   "source": [
    "#variant compute the kth permutation under dictionary ordering, starting from the identity permutation which\n",
    "#is the first permutation\n",
    "\n",
    "def compute_kth_permutation(arr_len):\n",
    "    identity=list(range(arr_len))\n",
    "    perms=[identity]\n",
    "    while len(identity)>0:\n",
    "        print(identity)\n",
    "        identity=compute_next_permutation(identity)\n",
    "        if(len(identity)>0):\n",
    "            perms.append(identity)\n",
    "    return perms"
   ]
  },
  {
   "cell_type": "code",
   "execution_count": 32,
   "metadata": {},
   "outputs": [
    {
     "name": "stdout",
     "output_type": "stream",
     "text": [
      "[0, 1, 2]\n",
      "[0, 2, 1]\n",
      "[1, 0, 2]\n",
      "[1, 2, 0]\n",
      "[2, 0, 1]\n",
      "[2, 1, 0]\n"
     ]
    },
    {
     "data": {
      "text/plain": [
       "6"
      ]
     },
     "execution_count": 32,
     "metadata": {},
     "output_type": "execute_result"
    }
   ],
   "source": [
    "len(compute_kth_permutation(3))"
   ]
  },
  {
   "cell_type": "markdown",
   "metadata": {},
   "source": [
    "This problem is motivated by the need for a company to select a random subset of its customers to roll out a new feature to. For example a social networking company may want to see the effect of a new UI on the page visit duration without taking the chance of alienating all its users if the rollout is unsuccessful.\n",
    "\n",
    "Implement an algorithm that takes as input an array of distinct elements and a size, and returns a subset of the given array elements. All subsets should be equally likely. Return the result in input array itself.\n",
    "\n",
    "I'm going to use the logic from the binary uniform random generator. Let's first explain why this is a uniform random number generator. The idea here is to concatenate i bits produced by a random number generator. As an example. Two calls to the random generator will produce one of (00) (01) (10) (11). These four outcomes will encode the four integers 0,1,2,3 and all of them are equally likely.\n",
    "\n",
    "So this is the strategy I'm going to use"
   ]
  },
  {
   "cell_type": "code",
   "execution_count": 49,
   "metadata": {},
   "outputs": [],
   "source": [
    "import math\n",
    "import random\n",
    "\n",
    "def binaryToDecimal(n): \n",
    "    return int(n,2)\n",
    "\n",
    "def uniform_generator(a,b):\n",
    "    diff=b-a\n",
    "    bits=int(math.ceil(math.log(diff,2)))\n",
    "    end=False\n",
    "    while not end:\n",
    "        num_str=''\n",
    "        for i in range(bits):\n",
    "            num_str=num_str+str(random.randint(0, 1))\n",
    "        digit=binaryToDecimal(num_str)+a\n",
    "        if digit>=a and digit<=b:\n",
    "            end=True\n",
    "    return digit\n",
    "\n",
    "def generate_random_subset(array,size):\n",
    "    high=len(array)-1\n",
    "    indices=[]\n",
    "    subset=[]\n",
    "    while len(indices)<size:\n",
    "        index=uniform_generator(0,high)\n",
    "        if index not in indices:\n",
    "            indices.append(index)\n",
    "    \n",
    "    #get the items, in libraries where slicing is available I'd \n",
    "    #use a slice\n",
    "    #if you want them in order\n",
    "    indices=sorted(indices)\n",
    "    for i in indices:\n",
    "        subset.append(array[i])\n",
    "    return subset\n",
    "        \n",
    "        "
   ]
  },
  {
   "cell_type": "code",
   "execution_count": 50,
   "metadata": {},
   "outputs": [
    {
     "name": "stdout",
     "output_type": "stream",
     "text": [
      "['is', 'a']\n",
      "['is', 'a']\n",
      "['this', 'a']\n",
      "['this', 'random']\n",
      "['is', 'random']\n",
      "['this', 'is']\n",
      "['this', 'a']\n",
      "['a', 'random']\n",
      "['this', 'random']\n",
      "['is', 'random']\n"
     ]
    }
   ],
   "source": [
    "for i in range(10):\n",
    "    print(generate_random_subset([\"this\",\"is\",\"a\",\"random\",\"sentence\"],2))"
   ]
  },
  {
   "cell_type": "markdown",
   "metadata": {},
   "source": [
    "**Problem:** This problem is motivated by the design of a packet sniffer that provides a uniform sample of packets for a network session. \n",
    "\n",
    "Design program that takes as input a size k, and reads packets, continously maintaining a uniform subset of size k of the read packets.\n",
    "\n",
    "My initial thought it store a list of packets that we have included in the subset before, keep generating random indices and only select packets that haven't been read, otherwise generate another random indice. The probabililty here is uniform.\n",
    "\n",
    "This idea is the brute force approach. After reading in each packet we compute a random subset of k packets. The space complexity is high -- O(n), after n packets have been read. The time complexity is high O(nk), since each packet is followed by a call to the solution\n",
    "\n",
    "\n",
    "The better idea here is suppose we have read the first n packets, and have a radnom subset of k of them. When we read the (n+1)th packet, it should belong to the new subset with probability k/(n+1). If we choose one of the packages in the existing subset of uniformly randomly to remove, the resulting collection will be a random subset of the n+1 packets.\n",
    "\n",
    "The formal proof relies on induction. As an example, suppose k=2, and the packets are read in the order p,q,r,t,u,v. We keep the first two packets in the subset, which is {p,q}. We select the next packet r with probaility 2/3. Suppose it is not selected. Then the subset after reading is still {p,q}. We then select the next packet, t with probability 2/4. Suppose it is selected, then we choose one of the packets and replace it with t. As an examaple let it be q now the subset is {p,t} and so on. Implement this.\n",
    "\n"
   ]
  },
  {
   "cell_type": "code",
   "execution_count": 19,
   "metadata": {},
   "outputs": [],
   "source": [
    "import random\n",
    "\n",
    "def random_sample(k,n):\n",
    "    rand=random.randrange(0,n+1)\n",
    "    if(rand>=n-k+1):\n",
    "        print(rand,\"sample\")\n",
    "        return True\n",
    "        \n",
    "    else:\n",
    "        print(rand,\"don't sample\")\n",
    "        return False\n",
    "        \n",
    "def uniform_online_data_sample(k,arr):\n",
    "    #first thing I need to understand is how to generate a random number based \n",
    "    #on a percentage\n",
    "    n=0\n",
    "    subset=[0]*k\n",
    "    #so if the probability is 2/3 we can do \n",
    "    \n",
    "    for i in range(len(arr)):\n",
    "        if(n<k):\n",
    "            subset[i]=arr[i]\n",
    "        else:\n",
    "            sample=random_sample(k,n)\n",
    "            if(sample):\n",
    "                index=random.randrange(0,k)\n",
    "                subset[index]=arr[i]\n",
    "        print(subset)\n",
    "        n+=1"
   ]
  },
  {
   "cell_type": "code",
   "execution_count": 20,
   "metadata": {},
   "outputs": [
    {
     "name": "stdout",
     "output_type": "stream",
     "text": [
      "['p', 0]\n",
      "['p', 'q']\n",
      "(1, 'sample')\n",
      "['p', 'r']\n",
      "(0, \"don't sample\")\n",
      "['p', 'r']\n",
      "(0, \"don't sample\")\n",
      "['p', 'r']\n",
      "(5, 'sample')\n",
      "['v', 'r']\n"
     ]
    }
   ],
   "source": [
    "packets=['p','q','r','t','u','v']\n",
    "uniform_online_data_sample(2,packets)"
   ]
  },
  {
   "cell_type": "markdown",
   "metadata": {},
   "source": [
    "**Problem:** Generating random permutations is not as straightforward as it seems. For example, iterating through <0,1,..,n-1> and swapping each element with another randomly selected element does not generate all permutations with equal probability. One way to see this is to consider the case n=3. The number of permutations is 3!=6\n",
    "\n",
    "Design an algorithm that creates uniformly random permutations of {0,1,..,n-1}.\n",
    "\n",
    "You are given a random number generator that returns integers in the set {0,1,...n-1} with equal probability; use as few calls as possible.\n",
    "\n",
    "My initial thought is store previous permutations and then check if we've already generated that permutation but this becomes space prohibitive O(n!) space. So need to find a different way to do that. (hinsight: I guess what I missed here is that we can generate the same permutation twice cause they all need to be equally likely)\n",
    "\n",
    "The book brute force approach is to iteratively pick random number generators, between 0 and n-1 inclusive. If the number repeats discard it, and try again. A hash table is a good way to store and test values that have already been picked.\n",
    "\n",
    "For example if n=4, we might have the sequence 1,2,1 (repeats), 3,1 (repeats),2 (repeat),0 (done all numbers from 0 to 3 are present. The corresponding permutation is <1,2,3,0>\n",
    "\n",
    "Space complexity beyond that of the result array is O(n). Time complexity is slightly challengin to analyze. Early on, it takes very few iterations to get more values but it takes a long time to collect the last few values. It is known that the number of tries on average is O (n log n).\n",
    "\n",
    "The way to improve time complexity is to avoid repeats. We can do this by restricting the set we randomly choose the reaming values from.\n",
    "\n",
    "For example let n=4. We begin with <0,1,2,3>. The first random number is chosen between 0 and 3 inclusive.\n",
    "suppose it is 1. We update the array to <1,0,2,3>. The second random number is generated between 1 and 3, suppose it is 3 then it is <1,3,0,2>. Then <1,3,2,0>. This is cool. All orderings occur with equal probability.\n",
    "\n",
    "The benefit of this approach is that the complexity is O(n) and you don't need storage outside of what is needed for the permutation array itself."
   ]
  },
  {
   "cell_type": "code",
   "execution_count": 10,
   "metadata": {},
   "outputs": [],
   "source": [
    "import random\n",
    "\n",
    "def swap(arr,i,j):\n",
    "    item1=arr[j]\n",
    "    item2=arr[i]\n",
    "    arr[j],arr[i]=item2,item1\n",
    "#n is the number of elements in the array\n",
    "def random_permutation(n):\n",
    "    permutation=list(range(n))\n",
    "    for i in range(n-1):\n",
    "        rand_index=random.randrange(i,len(permutation))\n",
    "        swap(permutation,i,rand_index)\n",
    "    return permutation"
   ]
  },
  {
   "cell_type": "code",
   "execution_count": 11,
   "metadata": {},
   "outputs": [
    {
     "name": "stdout",
     "output_type": "stream",
     "text": [
      "[2, 1, 0]\n",
      "[1, 2, 0]\n",
      "[0, 1, 2]\n",
      "[1, 2, 0]\n",
      "[2, 0, 1]\n",
      "[0, 2, 1]\n",
      "[0, 1, 2]\n",
      "[1, 2, 0]\n",
      "[0, 2, 1]\n",
      "[1, 0, 2]\n"
     ]
    }
   ],
   "source": [
    "for i in range(10):\n",
    "    print(random_permutation(3))"
   ]
  },
  {
   "cell_type": "code",
   "execution_count": null,
   "metadata": {},
   "outputs": [],
   "source": []
  }
 ],
 "metadata": {
  "kernelspec": {
   "display_name": "Python 2",
   "language": "python",
   "name": "python2"
  },
  "language_info": {
   "codemirror_mode": {
    "name": "ipython",
    "version": 2
   },
   "file_extension": ".py",
   "mimetype": "text/x-python",
   "name": "python",
   "nbconvert_exporter": "python",
   "pygments_lexer": "ipython2",
   "version": "2.7.16"
  }
 },
 "nbformat": 4,
 "nbformat_minor": 2
}
