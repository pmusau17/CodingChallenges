{
 "cells": [
  {
   "cell_type": "markdown",
   "metadata": {},
   "source": [
    "The quick sort algorithm for sorting arrays proceeds recursively--it selects an element (the \"pivot\"), reorders the array to make all the elements less than or equal to the pivot appear first, followed by all the elements greater than the pivot. The two subarrays are then sorted recursively.\n",
    "\n",
    "Implemented naively quick sort has large run times and deep function calls stacks on arrays with many duplicates because the subarrays may differ greatly in size. One solution is to reorder the array so that all elements less than the pivot appear first, followed by all elements equal to the pivot, followed by all elements greater than the pivot. This is known as Dutch flag partioning, because the Dutch national flag consists of three horizontal bands, each in different color. \n",
    "\n",
    "**problem:** write a program that takes an array A and an index i into A, and rearranges the elements such all elements less than A[i] (the pivot) appear first, followed by elements equal to the pivot, followed by elements greater than the pivot\n",
    "\n",
    "The problem is trivial to solve with O(n) additional space store all the smaller elements, those equal to the pivot and those greater. We can avoid O(n) additional space but O(n^2)\n",
    "\n",
    "To improve the time complexity, we can make a single pass and move all the elements less than the pivot to the beginning. In the second pass we move larger elements to the end. It's easy to perform each pass in a single iteration, moving out of place elements as soon as they are discovered.\n",
    "\n",
    "First let's implement the naive solution"
   ]
  },
  {
   "cell_type": "code",
   "execution_count": 29,
   "metadata": {},
   "outputs": [],
   "source": [
    "def swap(i,j,arr):\n",
    "    item1=arr[i]\n",
    "    item2=arr[j]\n",
    "    arr[j],arr[i]=item1,item2\n",
    "\n",
    "def dutchFlagPartition(pivot_index,arr):\n",
    "    pivot=arr[pivot_index]\n",
    "    \n",
    "    #move all the smaller elements to the start of the array\n",
    "    for i in range(len(arr)):\n",
    "        for j in range(i+1,len(arr)):\n",
    "            if(arr[j]<pivot):\n",
    "                swap(i,j,arr)\n",
    "                print(arr)\n",
    "                break\n",
    "    \n",
    "    #second pass move all the larger elements to the end of array\n",
    "    for i in range(len(arr)-1,-1,-1):\n",
    "        for j in range(i-1,-1,-1):\n",
    "            if(arr[j]>pivot):\n",
    "                swap(i,j,arr)\n",
    "                print(arr)\n",
    "                break\n",
    "        if(arr[j]<pivot):\n",
    "            break\n",
    "        "
   ]
  },
  {
   "cell_type": "code",
   "execution_count": 30,
   "metadata": {},
   "outputs": [
    {
     "name": "stdout",
     "output_type": "stream",
     "text": [
      "[3, 21, 6, 4, 5, 9, 20]\n",
      "[3, 21, 6, 4, 5, 20, 9]\n",
      "[3, 21, 6, 4, 20, 5, 9]\n",
      "[3, 21, 20, 4, 6, 5, 9]\n",
      "[3, 21, 4, 20, 6, 5, 9]\n",
      "[3, 4, 21, 20, 6, 5, 9]\n"
     ]
    }
   ],
   "source": [
    "arr=[6,21,3,4,5,9,20]\n",
    "dutchFlagPartition(3,arr)"
   ]
  },
  {
   "cell_type": "markdown",
   "metadata": {},
   "source": [
    "That works but its O(n^2) complexity"
   ]
  },
  {
   "cell_type": "markdown",
   "metadata": {},
   "source": [
    "The additional space complexity is now O(1) but the time complexity is O(n^2). Intuitively this approach is bad because in the first pass when searching for each additional element smaller than the pivot we start from the beginning. However there is no reason to start from so far back, we can begin from the last loaction we advanced to. To improve time complexity we can make a single pass and move all the elements less than pivot to the begininng, in the second pass we move larger elements to the end, it's easy to perform each pass in a singel iteration, moving out of place elements as soon as they are discovered."
   ]
  },
  {
   "cell_type": "code",
   "execution_count": 35,
   "metadata": {},
   "outputs": [],
   "source": [
    "def swap(i,j,arr):\n",
    "    item1=arr[i]\n",
    "    item2=arr[j]\n",
    "    arr[j],arr[i]=item1,item2\n",
    "\n",
    "def dutchFlagPartitionSinglePass(pivot_index,arr):\n",
    "    pivot=arr[pivot_index]\n",
    "    smaller=0\n",
    "    \n",
    "    #move all the smaller elements to the beginning of the array\n",
    "    for i in range(len(arr)):\n",
    "        if(arr[i]<pivot):\n",
    "            swap(i,smaller,arr)\n",
    "            smaller+=1\n",
    "            \n",
    "    #move all the larger elements to the end of the array\n",
    "    larger=len(arr)-1\n",
    "    for j in range(len(arr)-1,-1,-1):\n",
    "        if(arr[j]>pivot):\n",
    "            swap(j,larger,arr)\n",
    "            larger-=1\n",
    "        "
   ]
  },
  {
   "cell_type": "code",
   "execution_count": 37,
   "metadata": {},
   "outputs": [
    {
     "data": {
      "text/plain": [
       "[3, 4, 21, 6, 5, 9, 20]"
      ]
     },
     "execution_count": 37,
     "metadata": {},
     "output_type": "execute_result"
    }
   ],
   "source": [
    "arr=[6,21,3,4,5,9,20]\n",
    "dutchFlagPartitionSinglePass(3,arr)\n",
    "arr"
   ]
  },
  {
   "cell_type": "markdown",
   "metadata": {},
   "source": [
    "The algorithm we jsut presented is O(n) and space complexity O(1)"
   ]
  },
  {
   "cell_type": "code",
   "execution_count": null,
   "metadata": {},
   "outputs": [],
   "source": []
  }
 ],
 "metadata": {
  "kernelspec": {
   "display_name": "Python 3",
   "language": "python",
   "name": "python3"
  },
  "language_info": {
   "codemirror_mode": {
    "name": "ipython",
    "version": 3
   },
   "file_extension": ".py",
   "mimetype": "text/x-python",
   "name": "python",
   "nbconvert_exporter": "python",
   "pygments_lexer": "ipython3",
   "version": "3.7.3"
  }
 },
 "nbformat": 4,
 "nbformat_minor": 2
}
