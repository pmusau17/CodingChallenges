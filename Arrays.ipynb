{
 "cells": [
  {
   "cell_type": "markdown",
   "metadata": {},
   "source": [
    "The quick sort algorithm for sorting arrays proceeds recursively--it selects an element (the \"pivot\"), reorders the array to make all the elements less than or equal to the pivot appear first, followed by all the elements greater than the pivot. The two subarrays are then sorted recursively.\n",
    "\n",
    "Implemented naively quick sort has large run times and deep function calls stacks on arrays with many duplicates because the subarrays may differ greatly in size. One solution is to reorder the array so that all elements less than the pivot appear first, followed by all elements equal to the pivot, followed by all elements greater than the pivot. This is known as Dutch flag partioning, because the Dutch national flag consists of three horizontal bands, each in different color. \n",
    "\n",
    "**problem:** write a program that takes an array A and an index i into A, and rearranges the elements such all elements less than A[i] (the pivot) appear first, followed by elements equal to the pivot, followed by elements greater than the pivot\n",
    "\n",
    "The problem is trivial to solve with O(n) additional space store all the smaller elements, those equal to the pivot and those greater. We can avoid O(n) additional space but O(n^2)\n",
    "\n",
    "To improve the time complexity, we can make a single pass and move all the elements less than the pivot to the beginning. In the second pass we move larger elements to the end. It's easy to perform each pass in a single iteration, moving out of place elements as soon as they are discovered.\n",
    "\n",
    "First let's implement the naive solution"
   ]
  },
  {
   "cell_type": "code",
   "execution_count": 29,
   "metadata": {},
   "outputs": [],
   "source": [
    "def swap(i,j,arr):\n",
    "    item1=arr[i]\n",
    "    item2=arr[j]\n",
    "    arr[j],arr[i]=item1,item2\n",
    "\n",
    "def dutchFlagPartition(pivot_index,arr):\n",
    "    pivot=arr[pivot_index]\n",
    "    \n",
    "    #move all the smaller elements to the start of the array\n",
    "    for i in range(len(arr)):\n",
    "        for j in range(i+1,len(arr)):\n",
    "            if(arr[j]<pivot):\n",
    "                swap(i,j,arr)\n",
    "                print(arr)\n",
    "                break\n",
    "    \n",
    "    #second pass move all the larger elements to the end of array\n",
    "    for i in range(len(arr)-1,-1,-1):\n",
    "        for j in range(i-1,-1,-1):\n",
    "            if(arr[j]>pivot):\n",
    "                swap(i,j,arr)\n",
    "                print(arr)\n",
    "                break\n",
    "        if(arr[j]<pivot):\n",
    "            break\n",
    "        "
   ]
  },
  {
   "cell_type": "code",
   "execution_count": 30,
   "metadata": {},
   "outputs": [
    {
     "name": "stdout",
     "output_type": "stream",
     "text": [
      "[3, 21, 6, 4, 5, 9, 20]\n",
      "[3, 21, 6, 4, 5, 20, 9]\n",
      "[3, 21, 6, 4, 20, 5, 9]\n",
      "[3, 21, 20, 4, 6, 5, 9]\n",
      "[3, 21, 4, 20, 6, 5, 9]\n",
      "[3, 4, 21, 20, 6, 5, 9]\n"
     ]
    }
   ],
   "source": [
    "arr=[6,21,3,4,5,9,20]\n",
    "dutchFlagPartition(3,arr)"
   ]
  },
  {
   "cell_type": "markdown",
   "metadata": {},
   "source": [
    "That works but its O(n^2) complexity"
   ]
  },
  {
   "cell_type": "markdown",
   "metadata": {},
   "source": [
    "The additional space complexity is now O(1) but the time complexity is O(n^2). Intuitively this approach is bad because in the first pass when searching for each additional element smaller than the pivot we start from the beginning. However there is no reason to start from so far back, we can begin from the last loaction we advanced to. To improve time complexity we can make a single pass and move all the elements less than pivot to the begininng, in the second pass we move larger elements to the end, it's easy to perform each pass in a singel iteration, moving out of place elements as soon as they are discovered."
   ]
  },
  {
   "cell_type": "code",
   "execution_count": 45,
   "metadata": {},
   "outputs": [],
   "source": [
    "def swap(i,j,arr):\n",
    "    item1=arr[i]\n",
    "    item2=arr[j]\n",
    "    arr[j],arr[i]=item1,item2\n",
    "\n",
    "def dutchFlagPartitionDoublePass(pivot_index,arr):\n",
    "    pivot=arr[pivot_index]\n",
    "    smaller=0\n",
    "    \n",
    "    #move all the smaller elements to the beginning of the array\n",
    "    for i in range(len(arr)):\n",
    "        if(arr[i]<pivot):\n",
    "            swap(i,smaller,arr)\n",
    "            smaller+=1\n",
    "            \n",
    "    #move all the larger elements to the end of the array\n",
    "    larger=len(arr)-1\n",
    "    for j in range(len(arr)-1,-1,-1):\n",
    "        if(arr[j]>pivot):\n",
    "            swap(j,larger,arr)\n",
    "            larger-=1\n",
    "        "
   ]
  },
  {
   "cell_type": "code",
   "execution_count": 46,
   "metadata": {},
   "outputs": [
    {
     "data": {
      "text/plain": [
       "[3, 4, 21, 6, 5, 9, 20]"
      ]
     },
     "execution_count": 46,
     "metadata": {},
     "output_type": "execute_result"
    }
   ],
   "source": [
    "arr=[6,21,3,4,5,9,20]\n",
    "dutchFlagPartitionDoublePass(3,arr)\n",
    "arr"
   ]
  },
  {
   "cell_type": "markdown",
   "metadata": {},
   "source": [
    "The algorithm we jsut presented is O(n) and space complexity O(1)"
   ]
  },
  {
   "cell_type": "markdown",
   "metadata": {},
   "source": [
    "The third algorithm we present now is the same time complexity but performs a single pass. We dothis by maintaining for subarrays: bottom (elements less than the pivot), middle (equal to pivot), unclassified and top (elements greater than the pivot). Initially all elements are unclassified. We iterate and move elements intoone of bottom middle ad top groups accordingly to the relative order between the unclassifed element and the pivot.\n",
    "\n",
    "Suppose the array is <-3,0,-1,1,1,?,?,?,4,2> where the pivot is 1 and ? is the unclassified element. There are three possible cases for the unclassified element A[5].\n",
    "\n",
    "It could be less than 1 so for example a[5]=-5. In this case we swap it with the first element that's equal to the pivot. So the array becomes <-3,0,-1,-5,1,1,?,?,4,2>\n",
    "\n",
    "It could be equal to the pivot in this case the array remains unchanged. \n",
    "\n",
    "It could be greater than 1 for example A[5]=6 and in that case we swap it with the farthest right unclassified element. So the array becoms <-3,0,-1,1,1,?,?,6,4,2>\n",
    "\n",
    "If you notice every time the number of unclassifed elements decreases. "
   ]
  },
  {
   "cell_type": "code",
   "execution_count": 3,
   "metadata": {},
   "outputs": [],
   "source": [
    "def swap(i,j,arr):\n",
    "    item1=arr[i]\n",
    "    item2=arr[j]\n",
    "    arr[j],arr[i]=item1,item2\n",
    "\n",
    "\n",
    "def dutchFlagPartitionSinglePass(pivot_index,arr):\n",
    "    pivot=arr[pivot_index]\n",
    "    smaller=0\n",
    "    equal=0\n",
    "    larger=len(arr)\n",
    "    \n",
    "    \"\"\"The following invariants must be true during partitioning:\n",
    "        bottom group: Arr[0: smaller-1]\n",
    "        middle group: Arr[smaller:equal-1]\n",
    "        unclassified: Arr[equal:larger-1]\n",
    "        top group: Arr[larger: A.size()-1]\"\"\"\n",
    "    \n",
    "    while(equal<larger):\n",
    "        if(arr[equal]<pivot):\n",
    "            swap(equal,smaller,arr)\n",
    "            smaller+=1\n",
    "            equal+=1\n",
    "        elif(arr[equal]==pivot):\n",
    "            equal+=1\n",
    "        elif(arr[equal]>pivot):\n",
    "            swap(larger-1,equal,arr)\n",
    "            larger-=1\n",
    "            \n"
   ]
  },
  {
   "cell_type": "code",
   "execution_count": 72,
   "metadata": {},
   "outputs": [
    {
     "data": {
      "text/plain": [
       "[6, 3, 4, 5, 9, 20, 21]"
      ]
     },
     "execution_count": 72,
     "metadata": {},
     "output_type": "execute_result"
    }
   ],
   "source": [
    "arr=[6,21,3,4,5,9,20]\n",
    "dutchFlagPartitionSinglePass(5,arr)\n",
    "arr"
   ]
  },
  {
   "cell_type": "code",
   "execution_count": 73,
   "metadata": {},
   "outputs": [
    {
     "data": {
      "text/plain": [
       "[2, 2, 2, 2, 3, 3, 3, 3]"
      ]
     },
     "execution_count": 73,
     "metadata": {},
     "output_type": "execute_result"
    }
   ],
   "source": [
    "arr=[2,3,2,2,3,2,3,3]\n",
    "dutchFlagPartitionSinglePass(1,arr)\n",
    "arr"
   ]
  },
  {
   "cell_type": "markdown",
   "metadata": {},
   "source": [
    "Variant: Assuming that keys take one of three values, reorder the array so that all objects with the same key appear together. The order of the subarrays is not important. \n",
    "\n",
    "I think the solutions is to pick the midpoint of the keys. If only two appear choose either and use the single pass partition"
   ]
  },
  {
   "cell_type": "code",
   "execution_count": 4,
   "metadata": {},
   "outputs": [
    {
     "name": "stdout",
     "output_type": "stream",
     "text": [
      "('before:', array([2, 1, 3, 3, 3, 2, 2, 2, 1, 2, 2, 2, 1, 2, 1, 2, 2, 2, 2, 2, 3, 2,\n",
      "       1, 2, 2, 3, 1, 2, 3, 3, 2, 3, 1, 2, 1, 3, 2, 3, 1, 3, 2, 2, 3, 1,\n",
      "       1, 3, 2, 1, 1, 3, 2, 1, 3, 1, 3, 2, 3, 3, 2, 1, 2, 1, 1, 3, 3, 1,\n",
      "       3, 2, 3, 1, 1, 1, 2, 2, 3, 2, 2, 2, 2, 3, 2, 2, 3, 2, 2, 1, 1, 2,\n",
      "       2, 3, 3, 2, 3, 1, 2, 3, 1, 2, 2, 1]))\n",
      "('after: ', array([2, 1, 2, 2, 2, 1, 2, 2, 2, 1, 2, 1, 2, 2, 2, 2, 2, 2, 1, 2, 2, 1,\n",
      "       2, 2, 1, 2, 1, 2, 1, 2, 2, 1, 1, 2, 1, 1, 2, 1, 1, 2, 2, 1, 2, 1,\n",
      "       1, 1, 2, 1, 1, 1, 2, 2, 2, 2, 2, 2, 2, 2, 2, 2, 1, 1, 2, 2, 2, 1,\n",
      "       2, 1, 2, 2, 1, 3, 3, 3, 3, 3, 3, 3, 3, 3, 3, 3, 3, 3, 3, 3, 3, 3,\n",
      "       3, 3, 3, 3, 3, 3, 3, 3, 3, 3, 3, 3]))\n"
     ]
    }
   ],
   "source": [
    "\n",
    "\n",
    "\n",
    "def select_pivot(arr):\n",
    "    dicta={}\n",
    "    for i in range(len(arr)):\n",
    "        if arr[i] in dicta.keys():\n",
    "            continue\n",
    "        else:\n",
    "            dicta[arr[i]]=1\n",
    "        if len(dicta.keys())==3:\n",
    "            break\n",
    "    return sorted(dicta.keys())\n",
    "\n",
    "arr1=np.random.randint(1,4,(100,))\n",
    "print(\"before:\",arr1)\n",
    "dutchFlagPartitionSinglePass(select_pivot(arr1)[1],arr1)\n",
    "print(\"after: \", arr1)"
   ]
  },
  {
   "cell_type": "code",
   "execution_count": 97,
   "metadata": {},
   "outputs": [
    {
     "name": "stdout",
     "output_type": "stream",
     "text": [
      "('before:', array([2, 1, 1, 2, 2, 2, 1, 2, 0, 1, 1, 0, 1, 0, 2, 1, 2, 2, 0, 1, 2, 0,\n",
      "       0, 2, 2, 2, 2, 2, 1, 1, 1, 1, 0, 0, 1, 1, 0, 0, 2, 1, 1, 1, 1, 2,\n",
      "       0, 2, 0, 1, 0, 2, 2, 1, 1, 0, 2, 1, 1, 0, 0, 0, 2, 0, 1, 2, 2, 2,\n",
      "       2, 1, 0, 1, 1, 0, 2, 2, 2, 2, 1, 0, 1, 1, 0, 0, 2, 2, 2, 1, 1, 2,\n",
      "       1, 1, 1, 0, 0, 2, 2, 0, 0, 1, 1, 2]))\n",
      "('after: ', array([0, 0, 0, 0, 0, 0, 0, 0, 0, 0, 0, 0, 0, 0, 0, 0, 0, 0, 0, 0, 0, 0,\n",
      "       0, 0, 0, 0, 0, 1, 1, 1, 1, 1, 1, 1, 1, 1, 1, 1, 1, 1, 1, 1, 1, 1,\n",
      "       1, 1, 1, 1, 1, 1, 1, 1, 1, 1, 1, 1, 1, 1, 1, 1, 1, 1, 1, 1, 2, 2,\n",
      "       2, 2, 2, 2, 2, 2, 2, 2, 2, 2, 2, 2, 2, 2, 2, 2, 2, 2, 2, 2, 2, 2,\n",
      "       2, 2, 2, 2, 2, 2, 2, 2, 2, 2, 2, 2]))\n"
     ]
    }
   ],
   "source": [
    "# Function to sort array \n",
    "def sort012( a, arr_size): \n",
    "    lo = 0\n",
    "    hi = arr_size - 1\n",
    "    mid = 0\n",
    "    while mid <= hi: \n",
    "        if a[mid] == 0: \n",
    "            a[lo], a[mid] = a[mid], a[lo] \n",
    "            lo = lo + 1\n",
    "            mid = mid + 1\n",
    "        elif a[mid] == 1: \n",
    "            mid = mid + 1\n",
    "        else: \n",
    "            a[mid], a[hi] = a[hi], a[mid]  \n",
    "            hi = hi - 1\n",
    "    return a \n",
    "\n",
    "arr1=np.random.randint(0,3,(100,))\n",
    "print(\"before:\",arr1)\n",
    "sort012(arr1,len(arr1))\n",
    "print(\"after: \", arr1)"
   ]
  },
  {
   "cell_type": "code",
   "execution_count": null,
   "metadata": {},
   "outputs": [],
   "source": [
    "#Dutch partition an array with four distinct keys"
   ]
  },
  {
   "cell_type": "code",
   "execution_count": 9,
   "metadata": {},
   "outputs": [
    {
     "data": {
      "text/plain": [
       "array([0, 3, 1, 2, 1, 3, 1, 1, 3, 0])"
      ]
     },
     "execution_count": 9,
     "metadata": {},
     "output_type": "execute_result"
    }
   ],
   "source": [
    "arr1=np.random.randint(0,4,(10,))\n",
    "arr1"
   ]
  },
  {
   "cell_type": "code",
   "execution_count": 10,
   "metadata": {},
   "outputs": [
    {
     "data": {
      "text/plain": [
       "array([0, 1, 2, 1, 1, 1, 0, 3, 3, 3])"
      ]
     },
     "execution_count": 10,
     "metadata": {},
     "output_type": "execute_result"
    }
   ],
   "source": [
    "dutchFlagPartitionSinglePass(8,arr1)\n",
    "arr1"
   ]
  },
  {
   "cell_type": "markdown",
   "metadata": {},
   "source": [
    "Given an array with four values and then n values, reorder the array so that all objects of the same key appear together. Use O(1) additional space and O(n) additional time."
   ]
  },
  {
   "cell_type": "code",
   "execution_count": 16,
   "metadata": {},
   "outputs": [],
   "source": [
    "import numpy as np\n",
    "def swap(i,j,arr):\n",
    "    if(i!=j):\n",
    "        item1=arr[i]\n",
    "        item2=arr[j]\n",
    "        arr[j],arr[i]=item1,item2\n",
    "\n",
    "def BruteForce(num_keys,arr):\n",
    "    smallest=0\n",
    "    for i in range(num_keys):\n",
    "        for j in range(smallest,len(arr)):\n",
    "            if(arr[j]==i):\n",
    "                swap(j,smallest,arr)\n",
    "                smallest+=1"
   ]
  },
  {
   "cell_type": "code",
   "execution_count": 1,
   "metadata": {},
   "outputs": [
    {
     "name": "stdout",
     "output_type": "stream",
     "text": [
      "[2 1 1 1 2 3 1 3 1 0]\n"
     ]
    },
    {
     "ename": "NameError",
     "evalue": "name 'BruteForce' is not defined",
     "output_type": "error",
     "traceback": [
      "\u001b[0;31m---------------------------------------------------------------------------\u001b[0m",
      "\u001b[0;31mNameError\u001b[0m                                 Traceback (most recent call last)",
      "\u001b[0;32m<ipython-input-1-8801f0b12e2e>\u001b[0m in \u001b[0;36m<module>\u001b[0;34m()\u001b[0m\n\u001b[1;32m      2\u001b[0m \u001b[0marr3\u001b[0m\u001b[0;34m=\u001b[0m\u001b[0mnp\u001b[0m\u001b[0;34m.\u001b[0m\u001b[0mrandom\u001b[0m\u001b[0;34m.\u001b[0m\u001b[0mrandint\u001b[0m\u001b[0;34m(\u001b[0m\u001b[0;36m0\u001b[0m\u001b[0;34m,\u001b[0m\u001b[0;36m4\u001b[0m\u001b[0;34m,\u001b[0m\u001b[0;34m(\u001b[0m\u001b[0;36m10\u001b[0m\u001b[0;34m,\u001b[0m\u001b[0;34m)\u001b[0m\u001b[0;34m)\u001b[0m\u001b[0;34m\u001b[0m\u001b[0m\n\u001b[1;32m      3\u001b[0m \u001b[0;32mprint\u001b[0m\u001b[0;34m(\u001b[0m\u001b[0marr3\u001b[0m\u001b[0;34m)\u001b[0m\u001b[0;34m\u001b[0m\u001b[0m\n\u001b[0;32m----> 4\u001b[0;31m \u001b[0mBruteForce\u001b[0m\u001b[0;34m(\u001b[0m\u001b[0;36m4\u001b[0m\u001b[0;34m,\u001b[0m\u001b[0marr3\u001b[0m\u001b[0;34m)\u001b[0m\u001b[0;34m\u001b[0m\u001b[0m\n\u001b[0m\u001b[1;32m      5\u001b[0m \u001b[0marr3\u001b[0m\u001b[0;34m\u001b[0m\u001b[0m\n",
      "\u001b[0;31mNameError\u001b[0m: name 'BruteForce' is not defined"
     ]
    }
   ],
   "source": [
    "import numpy as np\n",
    "arr3=np.random.randint(0,4,(10,))\n",
    "print(arr3)\n",
    "BruteForce(4,arr3)\n",
    "arr3"
   ]
  },
  {
   "cell_type": "markdown",
   "metadata": {},
   "source": [
    "This has a worst time execution time of O(k*n) where k is the number of distinct keys"
   ]
  },
  {
   "cell_type": "markdown",
   "metadata": {},
   "source": [
    "Variant given an Array of n objects with boolean valued keys, reorder the array so that objects that have the key apper first. The relative ordering of objects with key true"
   ]
  },
  {
   "cell_type": "code",
   "execution_count": 27,
   "metadata": {},
   "outputs": [
    {
     "data": {
      "text/plain": [
       "array([[12,  0],\n",
       "       [58,  1],\n",
       "       [77,  1],\n",
       "       [90,  1],\n",
       "       [49,  0],\n",
       "       [19,  1],\n",
       "       [21,  0],\n",
       "       [71,  1],\n",
       "       [76,  1],\n",
       "       [44,  1]])"
      ]
     },
     "execution_count": 27,
     "metadata": {},
     "output_type": "execute_result"
    }
   ],
   "source": [
    "arr_len=10\n",
    "arr4=[]\n",
    "for i in range(arr_len):\n",
    "    ar1=[np.random.randint(0,100),np.random.randint(0,2)]\n",
    "    arr4.append(ar1)\n",
    "arr4=np.array(arr4)\n",
    "arr4"
   ]
  },
  {
   "cell_type": "code",
   "execution_count": 26,
   "metadata": {},
   "outputs": [],
   "source": [
    "def swap_two(i,j,arr):\n",
    "    if(i!=j):\n",
    "        item1=np.copy(arr[i])\n",
    "        item2=np.copy(arr[j])\n",
    "        arr[i,:]=item2\n",
    "        arr[j,:]=item1\n",
    "\n",
    "def order_boolean(arr):\n",
    "    largest=len(arr)-1\n",
    "    for i in range(len(arr)-1,-1,-1):\n",
    "        pair=arr[i]\n",
    "        pair_bool=pair[1]\n",
    "        if(pair_bool==1):\n",
    "            swap_two(i,largest,arr)\n",
    "            largest-=1\n",
    "            \n",
    "        "
   ]
  },
  {
   "cell_type": "code",
   "execution_count": 20,
   "metadata": {},
   "outputs": [
    {
     "name": "stdout",
     "output_type": "stream",
     "text": [
      "[[62  1]\n",
      " [ 0  1]\n",
      " [60  0]\n",
      " [ 2  1]\n",
      " [65  0]\n",
      " [87  0]\n",
      " [95  0]\n",
      " [29  1]\n",
      " [83  0]\n",
      " [22  1]]\n",
      "-----\n"
     ]
    },
    {
     "data": {
      "text/plain": [
       "array([[65,  0],\n",
       "       [ 0,  1],\n",
       "       [60,  0],\n",
       "       [ 2,  1],\n",
       "       [62,  1],\n",
       "       [87,  0],\n",
       "       [95,  0],\n",
       "       [29,  1],\n",
       "       [83,  0],\n",
       "       [22,  1]])"
      ]
     },
     "execution_count": 20,
     "metadata": {},
     "output_type": "execute_result"
    }
   ],
   "source": [
    "\n",
    "print(arr4)\n",
    "\n",
    "swap_two(0,4,arr4)\n",
    "arr4"
   ]
  },
  {
   "cell_type": "code",
   "execution_count": 28,
   "metadata": {},
   "outputs": [
    {
     "name": "stdout",
     "output_type": "stream",
     "text": [
      "[[12  0]\n",
      " [58  1]\n",
      " [77  1]\n",
      " [90  1]\n",
      " [49  0]\n",
      " [19  1]\n",
      " [21  0]\n",
      " [71  1]\n",
      " [76  1]\n",
      " [44  1]]\n",
      "-----\n",
      "[[12  0]\n",
      " [21  0]\n",
      " [49  0]\n",
      " [58  1]\n",
      " [77  1]\n",
      " [90  1]\n",
      " [19  1]\n",
      " [71  1]\n",
      " [76  1]\n",
      " [44  1]]\n"
     ]
    }
   ],
   "source": [
    "print(arr4)\n",
    "print('-----')\n",
    "order_boolean(arr4)\n",
    "print(arr4)"
   ]
  },
  {
   "cell_type": "markdown",
   "metadata": {},
   "source": [
    "Write a program which takes as input an array of digits encoding a decimal number D and updates the array to represent the array to represent the number D+1. For example, if the input is <1,2,9> then you should update the array to <1,3,0>. Your algorithm shoudl work even if it's implemented on a finite precision machine\n",
    "\n",
    "**Brute Force Solution:** The brute force solution is to convert the array to the integer increment by 1 and then convert it back to an array. Problem here is that finite precision might not work. \n",
    "\n",
    "**Alternate Solution:** Implment this as you learned simple addition. Adding and carrying. Worst case execution of this method is O(n).\n",
    "\n"
   ]
  },
  {
   "cell_type": "code",
   "execution_count": 2,
   "metadata": {},
   "outputs": [],
   "source": [
    "def increment_num_array(arr):\n",
    "    arr_len=len(arr)\n",
    "    #add 1 to the least significant digit\n",
    "    #define a carry if needed from the addition\n",
    "    if(arr[-1]==9):\n",
    "        carry=1\n",
    "        arr[-1]=0\n",
    "    else:\n",
    "        arr[-1]+=1\n",
    "        carry=0\n",
    "    #while we have a carry\n",
    "    index=len(arr)-2\n",
    "    while(carry>0 and index>=0):\n",
    "        curr_val=arr[index]\n",
    "        if(curr_val==9):\n",
    "            arr[index]=0\n",
    "            index-=1\n",
    "        else:\n",
    "            arr[index]=curr_val+1\n",
    "            carry=0\n",
    "    if(carry==1):\n",
    "        arr.insert(0,1)\n",
    "        \n",
    "        \n",
    "    "
   ]
  },
  {
   "cell_type": "code",
   "execution_count": 5,
   "metadata": {},
   "outputs": [
    {
     "data": {
      "text/plain": [
       "[1, 0, 0]"
      ]
     },
     "execution_count": 5,
     "metadata": {},
     "output_type": "execute_result"
    }
   ],
   "source": [
    "test1=[9,9]\n",
    "increment_num_array(test1)\n",
    "test1"
   ]
  },
  {
   "cell_type": "markdown",
   "metadata": {},
   "source": [
    "Variant: Write a program which takes as input two strings s and t of bits encoding binary numbers $B_t$ and $B_s$, respectively and returns a new string of bits representing the number of $B_s +B_t$"
   ]
  },
  {
   "cell_type": "code",
   "execution_count": 18,
   "metadata": {},
   "outputs": [],
   "source": [
    "def add_three_bits(a,b,c):\n",
    "    res=a+b+c\n",
    "    #return first value and the second value is the carry\n",
    "    if(res==3):\n",
    "        return 1,1\n",
    "    elif(res==2):\n",
    "        return 0,1\n",
    "    elif(res==1):\n",
    "        return 1,0 \n",
    "    else:\n",
    "        return 0,0\n",
    "\n",
    "def add_bit_arrays(bt,bs):\n",
    "    #carry for adding the bits\n",
    "    carry=0\n",
    "    bt_len=len(bt)\n",
    "    bs_len=len(bs)\n",
    "    index=max(bt_len,bs_len)-1\n",
    "    answer=[]\n",
    "    for i in range(min(bt_len,bs_len)):\n",
    "        bt_curr=bt[i]\n",
    "        bs_curr=bs[i]\n",
    "        ans_val,carry=add_three_bits(bt_curr,bs_curr,carry)\n",
    "        answer.insert(0,ans_val)\n",
    "        index-=1\n",
    "    #now continue carring but with the larger arr\n",
    "    if(bt_len>bs_len):\n",
    "        longer_arr=bt\n",
    "    elif(bt_len==bs_len):\n",
    "        if(carry==1):\n",
    "            answer.insert(0,1)\n",
    "            return answer\n",
    "        else:\n",
    "            return answer\n",
    "    else:\n",
    "        longer_arr=bs\n",
    "        \n",
    "    while(index>=0):\n",
    "        ans_val,carry=add_three_bits(carry,longer_arr[index],0)\n",
    "        answer.insert(0,ans_val)\n",
    "        index-=1\n",
    "        \n",
    "    if(carry==1):\n",
    "        answer.insert(0,1)\n",
    "    \n",
    "    return answer\n",
    "    \n",
    "    \n",
    "        \n",
    "        \n",
    "    "
   ]
  },
  {
   "cell_type": "code",
   "execution_count": 21,
   "metadata": {},
   "outputs": [
    {
     "name": "stdout",
     "output_type": "stream",
     "text": [
      "[1, 1, 0, 0]\n"
     ]
    },
    {
     "data": {
      "text/plain": [
       "[1, 1, 0]"
      ]
     },
     "execution_count": 21,
     "metadata": {},
     "output_type": "execute_result"
    }
   ],
   "source": [
    "b1=[1,0,0,1]\n",
    "b2=[1,1]\n",
    "print(add_bit_arrays(b1,b2))\n",
    "\n",
    "b1=[1,1]\n",
    "b2=[1,1]\n",
    "add_bit_arrays(b1,b2)"
   ]
  },
  {
   "cell_type": "markdown",
   "metadata": {},
   "source": [
    "Multiply two arbitrary precision integers. Certain applications require arbitraty precision arithmetic. One way to do this is to use arrays to represent integers with one digt per array entry. With the most significant digit appearing first, and a negative leading digit noting a negative integer\n",
    "\n",
    "Write a program that takes two arrays representing integers and returns an integer representing their product.\n",
    "\n",
    "As previously noted the possibilty of overflow precludes us from converting to the integer type. Instead we can use the grade school algorithm for multiplication which consists of multiplying the first number by the first digit add the terms rather than compute all of them then add them up. The number of digits required for the product is at most n+m for n digts and m digit operands\n",
    "\n",
    "For example, when multiplying 123 x 987, we would form 7 x 123=861, then we would form 8 x 123 * 10=9840, which we would add to get 861 to get 10701 then we would form 9 x 123 x 100 = 110700 which we would add to the result to get 121401. \n",
    "\n",
    "All the numbers are represented as arrays"
   ]
  },
  {
   "cell_type": "code",
   "execution_count": 58,
   "metadata": {},
   "outputs": [],
   "source": [
    "def determine_sign(digit1,digit2):\n",
    "    if((digit1>0 and digit2>0) or (digit1<0 and digit2<0)):\n",
    "        return 1\n",
    "    else:\n",
    "        return -1\n",
    "    \n",
    "\n",
    "#result len will dictate the number of leading zeros you want\n",
    "def add_two_bit_arrays(arr1,arr2,result_len):\n",
    "    if(result_len<(max(len(arr1),len(arr2))+1)):\n",
    "        return \"Not correct result len\"\n",
    "    else:\n",
    "        result=[0]*result_len\n",
    "        arr1_len=len(arr1)\n",
    "        arr2_len=len(arr2)\n",
    "        index=max(arr2_len,arr1_len,result_len)-1\n",
    "        larger_index=max(arr2_len,arr1_len)-1\n",
    "        carry=0\n",
    "        for i in range(-1,-min(len(arr1),len(arr2))-1,-1):\n",
    "            arr1_curr=arr1[i]\n",
    "            arr2_curr=arr2[i]\n",
    "            sum1=str(arr1_curr+arr2_curr+carry)\n",
    "            if(len(sum1)==1):\n",
    "                carry=0\n",
    "                result[i]=int(sum1[0])\n",
    "            else:\n",
    "                carry=int(sum1[0])\n",
    "                result[i]=int(sum1[1])\n",
    "            index-=1 \n",
    "            larger_index-=1\n",
    "        print(index,carry)\n",
    "        #now continue carring but with the larger arr\n",
    "        if(arr1_len>arr2_len):\n",
    "            longer_arr=arr1\n",
    "        elif(arr1_len==arr2_len):\n",
    "            if(carry>0):\n",
    "                result[index]=carry\n",
    "                return result\n",
    "            else:\n",
    "                return result\n",
    "        else:\n",
    "            longer_arr=arr2\n",
    "            \n",
    "        #finish adding with the longer array\n",
    "        print(result,carry,larger_index)\n",
    "        while(larger_index>=0):\n",
    "            sum1=str(longer_arr[larger_index]+carry)\n",
    "            if(len(sum1)==1):\n",
    "                carry=0\n",
    "                result[larger_index]=int(sum1)\n",
    "            else:\n",
    "                carry=int(sum1[0])\n",
    "                result[larger_index]=int(sum1[1])\n",
    "            index-=1\n",
    "            larger_index-=1\n",
    "            \n",
    "        if(carry>0):\n",
    "            result[index]=carry\n",
    "        else:\n",
    "            return result\n",
    "            \n",
    "            \n",
    "\n",
    "    \n",
    "\n",
    "\n",
    "\n",
    "def multiply_two_bit_arrays(arr1,arr2):\n",
    "    #determine if the number is negative or positive\n",
    "    sign_multiplier=determine_sign(arr1[1],arr2[1])\n",
    "    #the result will be a maximum of n+m elements\n",
    "    answer=[0]*(len(arr1)+len(arr2))\n",
    "    for i in range(len(arr1)):\n",
    "        result=0\n",
    "        mult=arr1[i]\n",
    "        for j in range (len(arr2)):\n",
    "            print(mult,'*',arr2[j])\n",
    "    \n",
    "    \n",
    "    \n",
    "    \n",
    "    "
   ]
  },
  {
   "cell_type": "code",
   "execution_count": 59,
   "metadata": {},
   "outputs": [
    {
     "name": "stdout",
     "output_type": "stream",
     "text": [
      "1 1\n",
      "[0, 0, 1, 0] 1 0\n",
      "2\n"
     ]
    },
    {
     "data": {
      "text/plain": [
       "[2, 0, 1, 0]"
      ]
     },
     "execution_count": 59,
     "metadata": {},
     "output_type": "execute_result"
    }
   ],
   "source": [
    "#multiply_two_bit_arrays([1,2,3],[1,2])\n",
    "add_two_bit_arrays([1,1,1],[9,9],4)"
   ]
  },
  {
   "cell_type": "code",
   "execution_count": 20,
   "metadata": {},
   "outputs": [
    {
     "name": "stdout",
     "output_type": "stream",
     "text": [
      "1\n",
      "2\n",
      "3\n"
     ]
    }
   ],
   "source": [
    "test1=[3,2,1]\n",
    "for i in range(-1,-len(test1)-1,-1):\n",
    "    print(test1[i])"
   ]
  },
  {
   "cell_type": "code",
   "execution_count": 43,
   "metadata": {},
   "outputs": [
    {
     "data": {
      "text/plain": [
       "3"
      ]
     },
     "execution_count": 43,
     "metadata": {},
     "output_type": "execute_result"
    }
   ],
   "source": [
    "max(1,2,3)"
   ]
  },
  {
   "cell_type": "code",
   "execution_count": null,
   "metadata": {},
   "outputs": [],
   "source": []
  }
 ],
 "metadata": {
  "kernelspec": {
   "display_name": "Python 3",
   "language": "python",
   "name": "python3"
  },
  "language_info": {
   "codemirror_mode": {
    "name": "ipython",
    "version": 3
   },
   "file_extension": ".py",
   "mimetype": "text/x-python",
   "name": "python",
   "nbconvert_exporter": "python",
   "pygments_lexer": "ipython3",
   "version": "3.7.3"
  }
 },
 "nbformat": 4,
 "nbformat_minor": 2
}
