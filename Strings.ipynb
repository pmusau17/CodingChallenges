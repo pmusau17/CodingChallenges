{
 "cells": [
  {
   "cell_type": "markdown",
   "metadata": {},
   "source": [
    "\"String pattern matching is an important problem that occurs in many areas of science and information processing. In computing, it occurs naturally as part of data processing, text editing, term rewriting, lexical analysis, and information retrieval\" A.V. AhO"
   ]
  },
  {
   "cell_type": "markdown",
   "metadata": {},
   "source": [
    "**Problem:** In this problem you are to implement methods that take a string representing an integer and return the corresponding integer. Your code should handle non-negative integers."
   ]
  },
  {
   "cell_type": "code",
   "execution_count": 20,
   "metadata": {},
   "outputs": [],
   "source": [
    "def convert_string_to_integer(num_str):\n",
    "    num=0\n",
    "    num_str=num_str[::-1]\n",
    "    negative=False\n",
    "    if('-' in num_str):\n",
    "        num_str=num_str.replace('-','')\n",
    "        negative=True\n",
    "    for char in enumerate(num_str):\n",
    "        num=num+(int(char[1])*(10**char[0]))\n",
    "    if negative:\n",
    "        return -1*num\n",
    "    return num"
   ]
  },
  {
   "cell_type": "code",
   "execution_count": 23,
   "metadata": {},
   "outputs": [
    {
     "data": {
      "text/plain": [
       "0"
      ]
     },
     "execution_count": 23,
     "metadata": {},
     "output_type": "execute_result"
    }
   ],
   "source": [
    "convert_string_to_integer('0')"
   ]
  },
  {
   "cell_type": "markdown",
   "metadata": {},
   "source": [
    "**Problem:** The base b number system generalizes the decimal number system: the string $a_{k-1}a{k-2}...a_1a_0$, where $0 \\leq a_i \\lt b$, denotes in base base-b the integer $a_0 \\times b^0 + a_1 \\times b^1 + a_2 \\times b^2 + \\dots + a_{k-1} \\times b^{k-1}$\n",
    "\n",
    "Write a program that peforms base conversion. The input is a string, an integer $b_1$ and another integer $b_2$. The string represents an integer in base $b_1$ The output should be a string representing the intgeger in base b2."
   ]
  },
  {
   "cell_type": "code",
   "execution_count": 52,
   "metadata": {},
   "outputs": [],
   "source": [
    "import math\n",
    "def convert_to_base10(string,b1):\n",
    "    num=0\n",
    "    for char in enumerate(string):\n",
    "        num=num+(int(char[1])*(b1**char[0]))\n",
    "    return num\n",
    "\n",
    "def multiple(num,index,b3):\n",
    "    for i in range(b3-1,-1,-1):\n",
    "        val=i*(b3**index)\n",
    "        if val<=num:\n",
    "            return num-val,i\n",
    "    return num,0\n",
    "            \n",
    "        \n",
    "        \n",
    "        \n",
    "def convert_bases(string,b1,b2):\n",
    "    base10=convert_to_base10(string,b1)\n",
    "    string_len=math.ceil(math.log(base10,b2))\n",
    "    baseb2=[0]*string_len\n",
    "    index=string_len-1\n",
    "    while base10>0 and index>=0:\n",
    "        base10,val=multiple(base10,index,b2)\n",
    "        print(base10,val)\n",
    "        baseb2[index]=val\n",
    "        index-=1\n",
    "    return baseb2[::-1]\n",
    "        \n",
    "    "
   ]
  },
  {
   "cell_type": "code",
   "execution_count": 26,
   "metadata": {},
   "outputs": [
    {
     "data": {
      "text/plain": [
       "40"
      ]
     },
     "execution_count": 26,
     "metadata": {},
     "output_type": "execute_result"
    }
   ],
   "source": [
    "convert_to_base10('1111',3)"
   ]
  },
  {
   "cell_type": "code",
   "execution_count": 54,
   "metadata": {},
   "outputs": [
    {
     "name": "stdout",
     "output_type": "stream",
     "text": [
      "6 1\n",
      "0 2\n"
     ]
    },
    {
     "data": {
      "text/plain": [
       "[1, 2, 0]"
      ]
     },
     "execution_count": 54,
     "metadata": {},
     "output_type": "execute_result"
    }
   ],
   "source": [
    "convert_bases('1111',2,3)"
   ]
  },
  {
   "cell_type": "code",
   "execution_count": 25,
   "metadata": {},
   "outputs": [],
   "source": [
    "#convert string column to integer\n",
    "import string \n",
    "def convert_string(column_str):\n",
    "    #create mappings\n",
    "    letters_uppercase=string.ascii_uppercase\n",
    "    mappings={}\n",
    "    for i in enumerate(letters_uppercase):\n",
    "        mappings[i[1]]=i[0]+1\n",
    "    \n",
    "    reverse_str=column_str[::-1]\n",
    "    val=mappings[reverse_str[0]]\n",
    "    for j in enumerate(reverse_str[1:]):\n",
    "        val+=(26**(j[0]+1))*mappings[j[1]]\n",
    "    print(val)"
   ]
  },
  {
   "cell_type": "code",
   "execution_count": 28,
   "metadata": {},
   "outputs": [
    {
     "name": "stdout",
     "output_type": "stream",
     "text": [
      "79\n"
     ]
    }
   ],
   "source": [
    "convert_string(\"CA\")"
   ]
  },
  {
   "cell_type": "code",
   "execution_count": null,
   "metadata": {},
   "outputs": [],
   "source": []
  }
 ],
 "metadata": {
  "kernelspec": {
   "display_name": "Python 3",
   "language": "python",
   "name": "python3"
  },
  "language_info": {
   "codemirror_mode": {
    "name": "ipython",
    "version": 3
   },
   "file_extension": ".py",
   "mimetype": "text/x-python",
   "name": "python",
   "nbconvert_exporter": "python",
   "pygments_lexer": "ipython3",
   "version": "3.7.3"
  }
 },
 "nbformat": 4,
 "nbformat_minor": 2
}
