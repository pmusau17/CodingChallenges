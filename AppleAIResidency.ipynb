{
 "cells": [
  {
   "cell_type": "code",
   "execution_count": 21,
   "metadata": {},
   "outputs": [],
   "source": [
    "def get_position(index,value,n):\n",
    "    return max(((index+1)-value),1),min((index+1)+value,n)"
   ]
  },
  {
   "cell_type": "code",
   "execution_count": 22,
   "metadata": {},
   "outputs": [],
   "source": [
    "locations = [0,2,1]"
   ]
  },
  {
   "cell_type": "code",
   "execution_count": 41,
   "metadata": {},
   "outputs": [],
   "source": [
    "def get_values(locations):\n",
    "    list_of_ranges = []\n",
    "    widths =[]\n",
    "    for i,val in enumerate(locations):\n",
    "        mina,maxa = get_position(i,val,len(locations))\n",
    "        ranges = [mina,maxa]\n",
    "        list_of_ranges.append(ranges)\n",
    "        widths.append(maxa-mina)\n",
    "        print(mina,maxa)\n",
    "    return list_of_ranges,widths"
   ]
  },
  {
   "cell_type": "code",
   "execution_count": 42,
   "metadata": {},
   "outputs": [
    {
     "name": "stdout",
     "output_type": "stream",
     "text": [
      "1 1\n",
      "1 3\n",
      "2 3\n"
     ]
    },
    {
     "data": {
      "text/plain": [
       "([[1, 1], [1, 3], [2, 3]], [0, 2, 1])"
      ]
     },
     "execution_count": 42,
     "metadata": {},
     "output_type": "execute_result"
    }
   ],
   "source": [
    "get_values(locations)"
   ]
  },
  {
   "cell_type": "code",
   "execution_count": 119,
   "metadata": {},
   "outputs": [],
   "source": [
    "def compute_fountains(locations):\n",
    "    target_range = [1,len(locations)]\n",
    "    lor,widths= get_values(locations)\n",
    "    if(target_range in lor):\n",
    "        return 1\n",
    "    else:\n",
    "        count = 1\n",
    "        max_width_index=widths.index(max(widths))\n",
    "        temp_range= lor[max_width_index]\n",
    "        temp_width = temp_range[1]-temp_range[0]\n",
    "        widths[max_width_index] = -100\n",
    "        for i in range(len(widths)):\n",
    "            max_width_index=widths.index(max(widths))\n",
    "            temp_range2= lor[max_width_index]\n",
    "            union = temp_range + temp_range2\n",
    "            width_union = max(union)-min(union)\n",
    "            if(width_union>temp_width):\n",
    "                temp_range = [min(union),max(union)]\n",
    "                temp_width = width_union\n",
    "                count+=1\n",
    "            widths[max_width_index] = -100\n",
    "        return count"
   ]
  },
  {
   "cell_type": "code",
   "execution_count": 120,
   "metadata": {},
   "outputs": [
    {
     "name": "stdout",
     "output_type": "stream",
     "text": [
      "1 1\n",
      "1 3\n",
      "2 3\n"
     ]
    },
    {
     "data": {
      "text/plain": [
       "1"
      ]
     },
     "execution_count": 120,
     "metadata": {},
     "output_type": "execute_result"
    }
   ],
   "source": [
    "compute_fountains(locations)"
   ]
  },
  {
   "cell_type": "code",
   "execution_count": 121,
   "metadata": {},
   "outputs": [
    {
     "name": "stdout",
     "output_type": "stream",
     "text": [
      "1 3\n",
      "2 2\n",
      "3 3\n",
      "4 4\n"
     ]
    },
    {
     "data": {
      "text/plain": [
       "([[1, 3], [2, 2], [3, 3], [4, 4]], [2, 0, 0, 0])"
      ]
     },
     "execution_count": 121,
     "metadata": {},
     "output_type": "execute_result"
    }
   ],
   "source": [
    "locations2 = [2,0,0,0]\n",
    "get_values(locations2)"
   ]
  },
  {
   "cell_type": "code",
   "execution_count": 122,
   "metadata": {},
   "outputs": [
    {
     "name": "stdout",
     "output_type": "stream",
     "text": [
      "1 3\n",
      "2 2\n",
      "3 3\n",
      "4 4\n"
     ]
    },
    {
     "data": {
      "text/plain": [
       "2"
      ]
     },
     "execution_count": 122,
     "metadata": {},
     "output_type": "execute_result"
    }
   ],
   "source": [
    "compute_fountains(locations2)"
   ]
  },
  {
   "cell_type": "code",
   "execution_count": 123,
   "metadata": {},
   "outputs": [
    {
     "name": "stdout",
     "output_type": "stream",
     "text": [
      "1 3\n",
      "2 2\n",
      "2 4\n",
      "2 6\n",
      "5 5\n",
      "6 6\n",
      "7 7\n"
     ]
    },
    {
     "data": {
      "text/plain": [
       "([[1, 3], [2, 2], [2, 4], [2, 6], [5, 5], [6, 6], [7, 7]],\n",
       " [2, 0, 2, 4, 0, 0, 0])"
      ]
     },
     "execution_count": 123,
     "metadata": {},
     "output_type": "execute_result"
    }
   ],
   "source": [
    "locations3= [2,0,1,2,0,0,0]\n",
    "get_values(locations3)"
   ]
  },
  {
   "cell_type": "code",
   "execution_count": 124,
   "metadata": {},
   "outputs": [],
   "source": [
    "a = [1,2]\n",
    "b= [2,3]"
   ]
  },
  {
   "cell_type": "code",
   "execution_count": 126,
   "metadata": {},
   "outputs": [
    {
     "name": "stdout",
     "output_type": "stream",
     "text": [
      "1 1\n",
      "1 3\n",
      "2 3\n",
      "1 3\n",
      "2 2\n",
      "3 3\n",
      "4 4\n",
      "1 3\n",
      "2 2\n",
      "2 4\n",
      "2 6\n",
      "5 5\n",
      "6 6\n",
      "7 7\n"
     ]
    },
    {
     "data": {
      "text/plain": [
       "3"
      ]
     },
     "execution_count": 126,
     "metadata": {},
     "output_type": "execute_result"
    }
   ],
   "source": [
    "compute_fountains(locations)\n",
    "compute_fountains(locations2)\n",
    "compute_fountains(locations3)"
   ]
  },
  {
   "cell_type": "code",
   "execution_count": 129,
   "metadata": {},
   "outputs": [],
   "source": [
    "import numpy as np"
   ]
  },
  {
   "cell_type": "code",
   "execution_count": 177,
   "metadata": {},
   "outputs": [],
   "source": [
    "def select_Stock(saving,currentValue,futureValue):\n",
    "    origc = currentValue.copy()\n",
    "    origf = futureValue.copy()\n",
    "    \n",
    "    remainingSaving = saving\n",
    "    best_profit_little = 0\n",
    "    best_profit_largest = 0 \n",
    "    profit = [0]*len(currentValue)\n",
    "    for i in range(len(currentValue)):\n",
    "        profit[i] = futureValue[i]-currentValue[i]\n",
    "    # profit by going by smallest \n",
    "    for i in range(len(currentValue)):\n",
    "        min_ind = currentValue.index(min(currentValue))\n",
    "        val = currentValue[min_ind]\n",
    "        if(profit[min_ind]>0):\n",
    "            if(remainingSaving-val>0):\n",
    "                best_profit_little+=profit[min_ind]\n",
    "                remainingSaving-=val\n",
    "        currentValue[min_ind] = 100000\n",
    "        \n",
    "    currentValue = origc\n",
    "    futureValue = origf\n",
    "    remainingSaving = saving\n",
    "    for i in range(len(currentValue)):\n",
    "        min_ind = profit.index(max(profit))\n",
    "        val = currentValue[min_ind]\n",
    "        if(profit[min_ind]>0):\n",
    "            if(remainingSaving-val>0):\n",
    "                best_profit_largest+=profit[min_ind]\n",
    "                remainingSaving-=val\n",
    "        profit[min_ind] = -100000\n",
    "    \n",
    "    print((best_profit_little,best_profit_largest))\n",
    "    remainingSaving = saving\n",
    "    return max(best_profit_little,best_profit_largest)\n",
    "        "
   ]
  },
  {
   "cell_type": "code",
   "execution_count": 178,
   "metadata": {},
   "outputs": [
    {
     "name": "stdout",
     "output_type": "stream",
     "text": [
      "(20, 25)\n"
     ]
    },
    {
     "data": {
      "text/plain": [
       "25"
      ]
     },
     "execution_count": 178,
     "metadata": {},
     "output_type": "execute_result"
    }
   ],
   "source": [
    "test1 = [175,133,109,210,97]\n",
    "test2 = [200,125,128,228,98]\n",
    "select_Stock(saving,test1,test2)"
   ]
  }
 ],
 "metadata": {
  "kernelspec": {
   "display_name": "Python 3",
   "language": "python",
   "name": "python3"
  },
  "language_info": {
   "codemirror_mode": {
    "name": "ipython",
    "version": 3
   },
   "file_extension": ".py",
   "mimetype": "text/x-python",
   "name": "python",
   "nbconvert_exporter": "python",
   "pygments_lexer": "ipython3",
   "version": "3.7.3"
  }
 },
 "nbformat": 4,
 "nbformat_minor": 2
}
