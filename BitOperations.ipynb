{
 "cells": [
  {
   "cell_type": "markdown",
   "metadata": {},
   "source": [
    "I'm not too familiar with bitwise operators in python. So this is a little learning curve. The bitwise operators in python are <<, >>, &, |, ~, and ^. They operate on numbers (normally) but instead of treating that number as if it were a single value they treat it as if it were a string of bits, written in two's complement binary. \n",
    "\n",
    "Two's complement binary numbers for negative integers. Negative numbers are written with a leading one instead of a leading zero. So if you are using only 8 bits for your two's complement then patterns from \"00000000\" to \"01111111\" are the whole numbers from 0 to 127 and reserve \"1xxxxxxx\" for negative numbers. A negative number -x is written using the bit pattern for (x-1) with all of the bits complemented switch from 1 to 0 or 0 to 1. So -1 complement (1-1) = complement(0)=\"11111111\" and -10 = complement(9)=\"11110110\". This means negative numbers go all the way down to -128. This means negative numbers go all the way down to -128 (\"10000000\")\n",
    "\n",
    "Of course, Python doesn't use 8-bit numbers. It used to use however nmany bits were naive to your machine, but since that was non-portable, it now uses an INFINITE number of bits. Thus the number -5 treated by bitwsie operators as it were written \"...111111111111111111101\". (How Sway? a mystery for another day)\n",
    "\n",
    "**The Operators**\n",
    "\n",
    "- x << y\n",
    "  - Returns x with the bits shifted to the left by y places (and new bits on the right-hand-side are zeros). This is the same as multiplying x by 2**y.\n",
    "- x >> y\n",
    "  - Returns x with the bits shifted to the right by y places. This is the same as //'ing x by 2**y.\n",
    "- x & y\n",
    "  - Does a \"bitwise and\". Each bit of the output is 1 if the corresponding bit of x AND of y is 1, otherwise it's 0.\n",
    "- x | y\n",
    "  - Does a \"bitwise or\". Each bit of the output is 0 if the corresponding bit of x AND of y is 0, otherwise it's 1.\n",
    "- ~ x\n",
    "  - Returns the complement of x - the number you get by switching each 1 for a 0 and each 0 for a 1. This is the same as -x - 1.\n",
    "- x ^ y\n",
    "  - Does a \"bitwise exclusive or\". Each bit of the output is the same as the corresponding bit in x if that bit in y is 0, and it's the complement of the bit in x if that bit in y is 1.\n",
    "\n",
    "\n",
    "The source of this information was: https://wiki.python.org/moin/BitwiseOperators. Go on and take a look at their great work. \n",
    "\n",
    "\n"
   ]
  },
  {
   "cell_type": "code",
   "execution_count": 2,
   "metadata": {},
   "outputs": [
    {
     "data": {
      "text/plain": [
       "10"
      ]
     },
     "execution_count": 2,
     "metadata": {},
     "output_type": "execute_result"
    }
   ],
   "source": [
    " 5 << 1"
   ]
  },
  {
   "cell_type": "code",
   "execution_count": 12,
   "metadata": {},
   "outputs": [],
   "source": [
    "#Calculate the parity of a word. \n",
    "#The idea here is that you can erase the lowest set bit in a word by x & (x-1) and you can isolate the lowest set\n",
    "#bit in a word using x & ~(x-1) (memorize these lol)\n",
    "#Thus the idea here now is the parity of the word is equal to the number of 1's in the word modulo two\n",
    "#and we can do this efficiently by removing the lowest set bit\n",
    "\n",
    "def parity(word):\n",
    "    result=0\n",
    "    while(word):\n",
    "        result+=1\n",
    "        word &=(word-1)\n",
    "    return result%2\n",
    "\n",
    "# more efficient way is using exlcusive or\n",
    "\n",
    "def parity2(word):\n",
    "    result=0\n",
    "    while(word):\n",
    "        result^=1\n",
    "        word &=(word-1)\n",
    "    return result%2"
   ]
  },
  {
   "cell_type": "code",
   "execution_count": 11,
   "metadata": {},
   "outputs": [
    {
     "data": {
      "text/plain": [
       "1"
      ]
     },
     "execution_count": 11,
     "metadata": {},
     "output_type": "execute_result"
    }
   ],
   "source": [
    "parity(1024)"
   ]
  },
  {
   "cell_type": "code",
   "execution_count": 36,
   "metadata": {},
   "outputs": [],
   "source": [
    "#next challenge: \n",
    "#implement code that takes a 64-bit int and swaps the bits at indices i and j\n",
    "\n",
    "def convert_int_to_bin(integer,num_bits):\n",
    "    string='{0:0'+str(num_bits)+'b}'\n",
    "    return string.format(integer)\n",
    "    \n",
    "def swap_bits(word,i,j):\n",
    "    word=list(word)\n",
    "    if word[i]==word[j]:\n",
    "        return word\n",
    "    else:\n",
    "        word[i]=str(int(word[i])^1)\n",
    "        word[j]=str(int(word[j])^1)\n",
    "    return \"\".join(word)"
   ]
  },
  {
   "cell_type": "code",
   "execution_count": 37,
   "metadata": {},
   "outputs": [
    {
     "name": "stdout",
     "output_type": "stream",
     "text": [
      "00000110\n",
      "00000101\n"
     ]
    }
   ],
   "source": [
    "wo=convert_int_to_bin(6,8)\n",
    "print(wo)\n",
    "wo1=swap_bits(wo,6,7)\n",
    "print(wo1)"
   ]
  },
  {
   "cell_type": "markdown",
   "metadata": {},
   "source": [
    "Write a program that takes a 64-bit word consisting of the bits in the input word in the reverse order. For example, if the input is alternating 1s and 0s."
   ]
  },
  {
   "cell_type": "code",
   "execution_count": 7,
   "metadata": {},
   "outputs": [],
   "source": [
    "#Brute force\n",
    "def convert_int_to_bin(integer,num_bits):\n",
    "    string='{0:0'+str(num_bits)+'b}'\n",
    "    return string.format(integer)\n",
    "\n",
    "def swap(arr,i,j):\n",
    "    item1=arr[j]\n",
    "    item2=arr[i]\n",
    "    arr[i],arr[j]=item1,item2\n",
    "def reverse_bin(word):\n",
    "    word=list(word)\n",
    "    word_len=len(word)\n",
    "    for i in range(len(word)//2):\n",
    "        top_swap=word_len-1-i\n",
    "        swap(word,i,top_swap)\n",
    "    return \"\".join(word)"
   ]
  },
  {
   "cell_type": "code",
   "execution_count": 10,
   "metadata": {},
   "outputs": [
    {
     "name": "stdout",
     "output_type": "stream",
     "text": [
      "0000000000000000000000000000000000000000000000000000010011010001\n",
      "1000101100100000000000000000000000000000000000000000000000000000\n"
     ]
    }
   ],
   "source": [
    "w1=convert_int_to_bin(1233,64)\n",
    "print(w1)\n",
    "w2=reverse_bin(w1)\n",
    "print(w2)"
   ]
  },
  {
   "cell_type": "markdown",
   "metadata": {},
   "source": [
    "A more efficient way to do this is to use a lookup table. For words of up to 16 bits and then divide the 64 bit word into four different parts. y3 y2 y1 y0. We then compute the reverses of each of them and reconstruct them in the order y0 y1 y2 y3"
   ]
  },
  {
   "cell_type": "markdown",
   "metadata": {},
   "source": [
    "Define the weight of a non-negative integer x to be the number of bits that are set to 1 in its binary representation.\n",
    "\n",
    "Write a program that takes as input a non-negative integer x and returns a number y which is not equal to x but has the saem weight as x and their difference |y-x| is as small as possible. You can assume x is not all 0s or 1s.\n",
    "\n",
    "Swap the two rightmost bits that differ"
   ]
  }
 ],
 "metadata": {
  "kernelspec": {
   "display_name": "Python 3",
   "language": "python",
   "name": "python3"
  },
  "language_info": {
   "codemirror_mode": {
    "name": "ipython",
    "version": 3
   },
   "file_extension": ".py",
   "mimetype": "text/x-python",
   "name": "python",
   "nbconvert_exporter": "python",
   "pygments_lexer": "ipython3",
   "version": "3.7.3"
  }
 },
 "nbformat": 4,
 "nbformat_minor": 2
}
